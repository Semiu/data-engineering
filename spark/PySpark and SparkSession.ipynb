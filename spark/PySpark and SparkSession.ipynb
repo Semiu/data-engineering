{
 "cells": [
  {
   "cell_type": "markdown",
   "id": "c49b010e",
   "metadata": {},
   "source": [
    "#### The Spark Session\n",
    "\n",
    "`SparkContext` is the first component and the main entry for Spark functionality for connecting the cluster with the application.\n",
    "\n",
    "To create `SparkContent`, we need `SparkConf` object to specify some parameters, including the master's node IP address.\n",
    "\n",
    "To read data frames, we beed Spark SQL equivalent, the `SparkSession`, which similarly needs some parameters to be specified.\n",
    "\n",
    "Here, the `log_of_songs` is an example of thousands of strings of song that is not passed into the `parallelize` method of the `spark.sparkContext` object.\n",
    "\n",
    "`distributed_song_log_rdd = spark.sparkContext.parallelize(log_of_songs)`\n",
    "\n",
    "So, if processing like `.lower()` is intended to be applied to this, we can have:\n",
    "\n",
    "```bash \n",
    "def convert_to_lower_case(song):\n",
    "    return song.lower()\n",
    "```\n",
    "        \n",
    "We can now use the Spark function `map` to apply the `convert_to_lower_case` function to every song, like:\n",
    "\n",
    "`distributed_song_log_rdd.map(convert_to_lower_case)`\n",
    "\n",
    "This can also be written using the anonymous function `lambda`:\n",
    "\n",
    "`distributed_song_log_rdd.map(lambda song: song.lower())`"
   ]
  },
  {
   "cell_type": "code",
   "execution_count": null,
   "id": "558fddc6",
   "metadata": {},
   "outputs": [],
   "source": []
  },
  {
   "cell_type": "code",
   "execution_count": null,
   "id": "6422e1f5",
   "metadata": {},
   "outputs": [],
   "source": []
  },
  {
   "cell_type": "code",
   "execution_count": null,
   "id": "90ad03d4",
   "metadata": {},
   "outputs": [],
   "source": []
  },
  {
   "cell_type": "code",
   "execution_count": null,
   "id": "ea52a918",
   "metadata": {},
   "outputs": [],
   "source": []
  },
  {
   "cell_type": "code",
   "execution_count": null,
   "id": "374255e3",
   "metadata": {},
   "outputs": [],
   "source": []
  },
  {
   "cell_type": "code",
   "execution_count": null,
   "id": "8c2eb5b7",
   "metadata": {},
   "outputs": [],
   "source": []
  }
 ],
 "metadata": {
  "kernelspec": {
   "display_name": "Python 3 (ipykernel)",
   "language": "python",
   "name": "python3"
  },
  "language_info": {
   "codemirror_mode": {
    "name": "ipython",
    "version": 3
   },
   "file_extension": ".py",
   "mimetype": "text/x-python",
   "name": "python",
   "nbconvert_exporter": "python",
   "pygments_lexer": "ipython3",
   "version": "3.10.10"
  }
 },
 "nbformat": 4,
 "nbformat_minor": 5
}

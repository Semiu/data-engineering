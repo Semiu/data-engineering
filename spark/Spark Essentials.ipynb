{
 "cells": [
  {
   "cell_type": "markdown",
   "id": "3751fb11",
   "metadata": {},
   "source": [
    "In distributed systems, programs should not rely on resources created by previous executions.\n",
    "\n",
    "Idempotent programs do not rely on existing state before starting and can run multiple times without effect on the result.\n",
    "\n",
    "The code below is an example of a program that relies on a previous state\n",
    "\n",
    "`ledgerBalance = getLedgerBalanceFromLastRun()`\n",
    "\n",
    "`ledgerBalance = ledgerBalance + getLedgerBalanceSinceLastRun()`\n",
    "\n",
    "\n",
    "Avoiding the prior state would be by writing like:\n",
    "\n",
    "`ledgerBalance = addAllTransactions()`"
   ]
  },
  {
   "cell_type": "code",
   "execution_count": null,
   "id": "dd1001da",
   "metadata": {},
   "outputs": [],
   "source": []
  },
  {
   "cell_type": "code",
   "execution_count": null,
   "id": "7a897e9c",
   "metadata": {},
   "outputs": [],
   "source": []
  },
  {
   "cell_type": "code",
   "execution_count": null,
   "id": "1b5e6c6e",
   "metadata": {},
   "outputs": [],
   "source": []
  },
  {
   "cell_type": "code",
   "execution_count": null,
   "id": "79f85af8",
   "metadata": {},
   "outputs": [],
   "source": []
  },
  {
   "cell_type": "code",
   "execution_count": null,
   "id": "04893d46",
   "metadata": {},
   "outputs": [],
   "source": []
  },
  {
   "cell_type": "code",
   "execution_count": null,
   "id": "9f45240a",
   "metadata": {},
   "outputs": [],
   "source": []
  }
 ],
 "metadata": {
  "kernelspec": {
   "display_name": "Python 3 (ipykernel)",
   "language": "python",
   "name": "python3"
  },
  "language_info": {
   "codemirror_mode": {
    "name": "ipython",
    "version": 3
   },
   "file_extension": ".py",
   "mimetype": "text/x-python",
   "name": "python",
   "nbconvert_exporter": "python",
   "pygments_lexer": "ipython3",
   "version": "3.10.10"
  }
 },
 "nbformat": 4,
 "nbformat_minor": 5
}

{
 "cells": [
  {
   "cell_type": "markdown",
   "id": "41a924c8",
   "metadata": {},
   "source": [
    "### Setting up S3 VPC Gateway Endpoint"
   ]
  },
  {
   "cell_type": "markdown",
   "id": "130b878c",
   "metadata": {},
   "source": [
    "Step 1 - Create a S3 bucket \n",
    "\n",
    " `aws s3 mb s3://_______` where the blank space is the name of the bucket like ` aws s3 mb s3://semistify` "
   ]
  },
  {
   "cell_type": "markdown",
   "id": "4445e940",
   "metadata": {},
   "source": [
    "Step 2 - S3 Gateway points\n",
    "\n",
    "a. Identify the VPC that needs access to S3 using `aws ec2 describe-vpcs`\n",
    "\n",
    "output like this:"
   ]
  },
  {
   "cell_type": "code",
   "execution_count": null,
   "id": "9dc83b0e",
   "metadata": {},
   "outputs": [],
   "source": [
    "{   \"Vpcs\": [\n",
    "        {\n",
    "            \"CidrBlock\": \"172.31.0.0/16\",\n",
    "            \"DhcpOptionsId\": \"dopt-045e9b07b84816bff\",\n",
    "            \"State\": \"available\",\n",
    "            \"VpcId\": \"vpc-03cc1cc1e02d0160d\",\n",
    "            \"OwnerId\": \"066642259352\",\n",
    "            \"InstanceTenancy\": \"default\",\n",
    "            \"CidrBlockAssociationSet\": [\n",
    "                {\n",
    "                    \"AssociationId\": \"vpc-cidr-assoc-0958012b90f676611\",\n",
    "                    \"CidrBlock\": \"172.31.0.0/16\",\n",
    "                    \"CidrBlockState\": {\n",
    "                        \"State\": \"associated\"\n",
    "                    }\n",
    "                }\n",
    "            ],\n",
    "            \"IsDefault\": true\n",
    "        }\n",
    "    ]\n",
    "}"
   ]
  },
  {
   "cell_type": "markdown",
   "id": "e75248f1",
   "metadata": {},
   "source": [
    "b. Identify the Routing table you want to configure with your VPC Gateway using `aws ec2 describe-route-tables`\n",
    "\n",
    "Output like this:"
   ]
  },
  {
   "cell_type": "code",
   "execution_count": null,
   "id": "79409478",
   "metadata": {},
   "outputs": [],
   "source": [
    "{\n",
    "    \"RouteTables\": [\n",
    "        {\n",
    "            \"Associations\": [\n",
    "                {\n",
    "                    \"Main\": true,\n",
    "                    \"RouteTableAssociationId\": \"rtbassoc-00ba3298a85a29c61\",\n",
    "                    \"RouteTableId\": \"rtb-0daedd7d2022f5ac6\",\n",
    "                    \"AssociationState\": {\n",
    "                        \"State\": \"associated\"\n",
    "                    }\n",
    "                }\n",
    "            ],\n",
    "            \"PropagatingVgws\": [],\n",
    "            \"RouteTableId\": \"rtb-0daedd7d2022f5ac6\",\n",
    "            \"Routes\": [\n",
    "                {\n",
    "                    \"DestinationCidrBlock\": \"172.31.0.0/16\",\n",
    "                    \"GatewayId\": \"local\",\n",
    "                    \"Origin\": \"CreateRouteTable\",\n",
    "                    \"State\": \"active\"\n",
    "                },\n",
    "                {\n",
    "                    \"DestinationCidrBlock\": \"0.0.0.0/0\",\n",
    "                    \"GatewayId\": \"igw-09e6be4ae3236dada\",\n",
    "                    \"Origin\": \"CreateRoute\",\n",
    "                    \"State\": \"active\"\n",
    "                }\n",
    "            ],\n",
    "            \"Tags\": [],\n",
    "            \"VpcId\": \"vpc-03cc1cc1e02d0160d\",\n",
    "            \"OwnerId\": \"066642259352\"\n",
    "        }\n",
    "    ]\n",
    "}"
   ]
  },
  {
   "cell_type": "markdown",
   "id": "d0ab4226",
   "metadata": {},
   "source": [
    "c. Create an S3 Gateway Endpoint with `aws ec2 create-vpc-endpoint --vpc-id _____ --service-name com.amazonaws.us-east-1.s3 --route-table-ids _________` replacing the blacns with the VPC and Routing Table Ids\n",
    "\n",
    "`aws ec2 create-vpc-endpoint --vpc-id vpc-03cc1cc1e02d0160d --service-name com.amazonaws.us-east-1.s3 --route-table-ids rtb-0daedd7d2022f5ac6`"
   ]
  },
  {
   "cell_type": "code",
   "execution_count": null,
   "id": "de40a14b",
   "metadata": {},
   "outputs": [],
   "source": [
    "}\n",
    "    \"VpcEndpoint\": {\n",
    "        \"VpcEndpointId\": \"vpce-08390c67d9ee98e77\",\n",
    "        \"VpcEndpointType\": \"Gateway\",\n",
    "        \"VpcId\": \"vpc-03cc1cc1e02d0160d\",\n",
    "        \"ServiceName\": \"com.amazonaws.us-east-1.s3\",\n",
    "        \"State\": \"available\",\n",
    "        \"PolicyDocument\": \"{\\\"Version\\\":\\\"2008-10-17\\\",\\\"Statement\\\":[{\\\"Effect\\\":\\\"Allow\\\",\\\"Principal\\\":\\\"*\\\",\\\"Action\\\":\\\"*\\\",\\\"Resource\\\":\\\"*\\\"}]}\",\n",
    "        \"RouteTableIds\": [\n",
    "            \"rtb-0daedd7d2022f5ac6\"\n",
    "        ],\n",
    "        \"SubnetIds\": [],\n",
    "        \"Groups\": [],\n",
    "        \"PrivateDnsEnabled\": false,\n",
    "        \"RequesterManaged\": false,\n",
    "        \"NetworkInterfaceIds\": [],\n",
    "        \"DnsEntries\": [],\n",
    "        \"CreationTimestamp\": \"2023-03-16T04:29:59+00:00\",\n",
    "        \"OwnerId\": \"066642259352\"\n",
    "    }\n",
    "}"
   ]
  },
  {
   "cell_type": "code",
   "execution_count": null,
   "id": "e0cdb055",
   "metadata": {},
   "outputs": [],
   "source": []
  },
  {
   "cell_type": "markdown",
   "id": "25af3ab2",
   "metadata": {},
   "source": [
    "### Creating the Glue Service Role"
   ]
  },
  {
   "cell_type": "code",
   "execution_count": null,
   "id": "16500e70",
   "metadata": {},
   "outputs": [],
   "source": []
  },
  {
   "cell_type": "code",
   "execution_count": null,
   "id": "0fec36f3",
   "metadata": {},
   "outputs": [],
   "source": []
  },
  {
   "cell_type": "code",
   "execution_count": null,
   "id": "8ebf31fb",
   "metadata": {},
   "outputs": [],
   "source": []
  },
  {
   "cell_type": "code",
   "execution_count": null,
   "id": "4d33e1a8",
   "metadata": {},
   "outputs": [],
   "source": []
  }
 ],
 "metadata": {
  "kernelspec": {
   "display_name": "Python 3 (ipykernel)",
   "language": "python",
   "name": "python3"
  },
  "language_info": {
   "codemirror_mode": {
    "name": "ipython",
    "version": 3
   },
   "file_extension": ".py",
   "mimetype": "text/x-python",
   "name": "python",
   "nbconvert_exporter": "python",
   "pygments_lexer": "ipython3",
   "version": "3.10.10"
  }
 },
 "nbformat": 4,
 "nbformat_minor": 5
}

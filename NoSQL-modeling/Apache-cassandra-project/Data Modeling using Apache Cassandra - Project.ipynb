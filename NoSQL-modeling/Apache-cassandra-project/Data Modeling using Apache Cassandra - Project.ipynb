{
 "cells": [
  {
   "cell_type": "markdown",
   "id": "b1052814",
   "metadata": {},
   "source": [
    "#### Modeling your NoSQL database or Apache Cassandra database\n",
    "\n",
    "1. Design tables to answer the queries outlined in the project template\n",
    "\n",
    "2. Write Apache Cassandra CREATE KEYSPACE and SET KEYSPACE statements\n",
    "\n",
    "3. Develop your CREATE statement for each of the tables to address each question\n",
    "\n",
    "4. Load the data with INSERT statement for each of the tables\n",
    "\n",
    "5. Include IF NOT EXISTS clauses in your CREATE statements to create tables only if the tables do not already exist. We recommend you also include DROP TABLE statement for each table, this way you can run drop and create tables whenever you want to reset your database and test your ETL pipeline\n",
    "\n",
    "6. Test by running the proper select statements with the correct WHERE clause\n",
    "\n",
    "#### Build ETL Pipeline\n",
    "\n",
    "1. Implement the logic in section Part I of the notebook template to iterate through each event file in event_data to process and create a new CSV file in Python\n",
    "\n",
    "2. Make necessary edits to Part II of the notebook template to include Apache Cassandra CREATE and INSERT statements to load processed records into relevant tables in your data model\n",
    "\n",
    "3. Test by running SELECT statements after running the queries on your database"
   ]
  },
  {
   "cell_type": "code",
   "execution_count": null,
   "id": "1f786a88",
   "metadata": {},
   "outputs": [],
   "source": [
    "# Import Python packages \n",
    "import pandas as pd\n",
    "import cassandra\n",
    "import re\n",
    "import os\n",
    "import glob\n",
    "import numpy as np\n",
    "import json\n",
    "import csv"
   ]
  },
  {
   "cell_type": "markdown",
   "id": "41956b5c",
   "metadata": {},
   "source": [
    "Creating list of filepaths to process original event csv data files"
   ]
  },
  {
   "cell_type": "code",
   "execution_count": null,
   "id": "b5c637ee",
   "metadata": {},
   "outputs": [],
   "source": [
    "# checking your current working directory\n",
    "#print(os.getcwd())\n",
    "\n",
    "# Get your current folder and subfolder event data\n",
    "filepath = os.getcwd() + '/event_data'\n",
    "\n",
    "# Create a for loop to create a list of files and collect each filepath\n",
    "for root, dirs, files in os.walk(filepath):\n",
    "    #print(files)\n",
    "    \n",
    "# join the file path and roots with the subdirectories using glob\n",
    "    file_path_list = glob.glob(os.path.join(root,'*'))\n",
    "    print(file_path_list)"
   ]
  },
  {
   "cell_type": "markdown",
   "id": "b534c1f5",
   "metadata": {},
   "source": [
    "Processing the files to create the data file csv that will be used for Apache Casssandra tables"
   ]
  },
  {
   "cell_type": "code",
   "execution_count": null,
   "id": "1d3eada2",
   "metadata": {},
   "outputs": [],
   "source": [
    "# initiating an empty list of rows that will be generated from each file\n",
    "full_data_rows_list = [] \n",
    "    \n",
    "# for every filepath in the file path list \n",
    "for f in file_path_list:\n",
    "\n",
    "# reading csv file \n",
    "    with open(f, 'r', encoding = 'utf8', newline='') as csvfile: \n",
    "        # creating a csv reader object \n",
    "        csvreader = csv.reader(csvfile) \n",
    "        next(csvreader)\n",
    "        \n",
    " # extracting each data row one by one and append it        \n",
    "        for line in csvreader:\n",
    "            #print(line)\n",
    "            full_data_rows_list.append(line) \n",
    "            \n",
    "# uncomment the code below if you would like to get total number of rows \n",
    "print(len(full_data_rows_list))\n",
    "\n",
    "# uncomment the code below if you would like to check to see what the list of event data rows will look like\n",
    "#print(full_data_rows_list)\n",
    "\n",
    "# creating a smaller event data csv file called event_datafile_full csv that will be used to insert data into the \\\n",
    "# Apache Cassandra tables\n",
    "csv.register_dialect('myDialect', quoting=csv.QUOTE_ALL, skipinitialspace=True)\n",
    "\n",
    "with open('event_datafile_new.csv', 'w', encoding = 'utf8', newline='') as f:\n",
    "    writer = csv.writer(f, dialect='myDialect')\n",
    "    writer.writerow(['artist','firstName','gender','itemInSession','lastName','length',\\\n",
    "                'level','location','sessionId','song','userId'])\n",
    "    for row in full_data_rows_list:\n",
    "        if (row[0] == ''):\n",
    "            continue\n",
    "        writer.writerow((row[0], row[2], row[3], row[4], row[5], row[6], row[7], row[8], row[12], row[13], row[16]))\n"
   ]
  },
  {
   "cell_type": "code",
   "execution_count": null,
   "id": "7381b8cf",
   "metadata": {},
   "outputs": [],
   "source": [
    "# check the number of rows in your csv file\n",
    "with open('event_datafile_new.csv', 'r', encoding = 'utf8') as f:\n",
    "    print(sum (1 for line in f))"
   ]
  },
  {
   "cell_type": "code",
   "execution_count": null,
   "id": "3c4cfb0d",
   "metadata": {},
   "outputs": [],
   "source": [
    "import pandas as pd\n",
    "\n",
    "df = pd.read_csv('event_datafile_new.csv')\n",
    "df.head()"
   ]
  },
  {
   "cell_type": "markdown",
   "id": "1c192276",
   "metadata": {},
   "source": [
    "#### Begin writing your Apache Cassandra code in the cells below¶\n",
    "\n",
    "Creating a Cluster"
   ]
  },
  {
   "cell_type": "code",
   "execution_count": null,
   "id": "c2ce3af2",
   "metadata": {},
   "outputs": [],
   "source": [
    "# This should make a connection to a Cassandra instance your local machine \n",
    "# (127.0.0.1)\n",
    "\n",
    "from cassandra.cluster import Cluster\n",
    "cluster = Cluster()\n",
    "\n",
    "# To establish connection and begin executing queries, need a session\n",
    "session = cluster.connect()"
   ]
  },
  {
   "cell_type": "markdown",
   "id": "b039f79e",
   "metadata": {},
   "source": [
    "Create Keyspace"
   ]
  },
  {
   "cell_type": "code",
   "execution_count": null,
   "id": "034bcd92",
   "metadata": {},
   "outputs": [],
   "source": [
    "# TO-DO: Create a Keyspace \n",
    "try:\n",
    "    session.execute(\"\"\"\n",
    "    CREATE KEYSPACE IF NOT EXISTS semispaqify\n",
    "    WITH REPLICATION =\n",
    "    {'class': 'SimpleStrategy', 'replication_factor': 1}\"\"\"\n",
    "    )\n",
    "except Exception as e:\n",
    "    print(e)"
   ]
  },
  {
   "cell_type": "markdown",
   "id": "874768c1",
   "metadata": {},
   "source": [
    "Set Keyspace"
   ]
  },
  {
   "cell_type": "code",
   "execution_count": null,
   "id": "9a8af66a",
   "metadata": {},
   "outputs": [],
   "source": [
    "# TO-DO: Set KEYSPACE to the keyspace specified above\n",
    "try:\n",
    "    session.set_keyspace('semispaqify')\n",
    "except Exception as e:\n",
    "    print(e)"
   ]
  },
  {
   "cell_type": "markdown",
   "id": "11fc1395",
   "metadata": {},
   "source": [
    "Now we need to create tables to run the following queries. Remember, with Apache Cassandra you model the database tables on the queries you want to run.\n",
    "\n",
    "Create queries to ask the following three questions of the data\n",
    "\n",
    "1. Give me the artist, song title and song's length in the music app history that was heard during sessionId = 338, and itemInSession = 4\n",
    "2. Give me only the following: name of artist, song (sorted by itemInSession) and user (first and last name) for userid = 10, sessionid = 182\n",
    "3. Give me every user name (first and last) in my music app history who listened to the song 'All Hands Against His Own'"
   ]
  },
  {
   "cell_type": "markdown",
   "id": "c05a303f",
   "metadata": {},
   "source": [
    "#### Query 1"
   ]
  },
  {
   "cell_type": "code",
   "execution_count": null,
   "id": "0480388e",
   "metadata": {},
   "outputs": [],
   "source": [
    "## TO-DO: Query 1:  Give me the artist, song title and song's length in the music app history that was heard during \\\n",
    "## sessionId = 338, and itemInSession = 4\n",
    "\n",
    "# Creating the tables\n",
    "query = 'CREATE TABLE IF NOT EXISTS song_session_tbl'\n",
    "query = query + \"(artist_name text, song_title text, song_length float, session_id int, \\\n",
    "item_session int, PRIMARY KEY (session_id, item_session))\"\n",
    "\n",
    "try:\n",
    "    session.execute(query)\n",
    "except Exception as e:\n",
    "    print(e)"
   ]
  },
  {
   "cell_type": "code",
   "execution_count": null,
   "id": "fa0f091f",
   "metadata": {},
   "outputs": [],
   "source": [
    "# We have provided part of the code to set up the CSV file. Please complete the Apache Cassandra code below#\n",
    "file = 'event_datafile_new.csv'\n",
    "\n",
    "with open(file, encoding = 'utf8') as f:\n",
    "    csvreader = csv.reader(f)\n",
    "    next(csvreader) # skip header\n",
    "    for line in csvreader:\n",
    "\n",
    "## TO-DO: Assign the INSERT statements into the `query` variable\n",
    "        query = \"INSERT INTO song_session_tbl (artist_name, song_title, song_length, session_id, item_session)\"\n",
    "        query = query + \"VALUES (%s, %s, %s, %s, %s)\"\n",
    "        \n",
    "        ## TO-DO: Assign which column element should be assigned for each column in the INSERT statement.\n",
    "        ## For e.g., to INSERT artist_name and user first_name, you would change the code below to `line[0], line[1]`\n",
    "        \n",
    "        # I did typecasting to match the table model\n",
    "        session.execute(query, (line[0], line[9], float(line[5]), int(line[8]), int(line[3]))) "
   ]
  },
  {
   "cell_type": "code",
   "execution_count": null,
   "id": "d9cadbd5",
   "metadata": {},
   "outputs": [],
   "source": [
    "## TO-DO: Add in the SELECT statement to verify the data was entered into the table\n",
    "\n",
    "query = \"SELECT artist_name, song_title, song_length FROM song_session_tbl WHERE session_id = 338 AND item_session = 4\"\n",
    "try:\n",
    "    rows = session.execute(query)\n",
    "except Exception as e:\n",
    "    print(e)\n",
    "    \n",
    "for row in rows:\n",
    "    print(row.artist_name, row.song_title, row.song_length)"
   ]
  },
  {
   "cell_type": "markdown",
   "id": "cfb477e6",
   "metadata": {},
   "source": [
    "#### Query 2"
   ]
  },
  {
   "cell_type": "code",
   "execution_count": null,
   "id": "5d9a485f",
   "metadata": {},
   "outputs": [],
   "source": [
    "## TO-DO: Query 2: Give me only the following: name of artist, song (sorted by itemInSession) and user (first and last name)\\\n",
    "## for userid = 10, sessionid = 182\n",
    "query = 'CREATE TABLE IF NOT EXISTS users_tbl'\n",
    "query = query + \"(artist_name text, song_title text, user_firstname text, user_lastname text, \\\n",
    "user_id int, session_id int, item_session int, PRIMARY KEY ((user_id, session_id), item_session))\"\n",
    "\n",
    "try:\n",
    "    session.execute(query)\n",
    "except Exception as e:\n",
    "    print(e)         "
   ]
  },
  {
   "cell_type": "code",
   "execution_count": null,
   "id": "6aefb9ce",
   "metadata": {},
   "outputs": [],
   "source": [
    "# We have provided part of the code to set up the CSV file. Please complete the Apache Cassandra code below#\n",
    "file = 'event_datafile_new.csv'\n",
    "\n",
    "with open(file, encoding = 'utf8') as f:\n",
    "    csvreader = csv.reader(f)\n",
    "    next(csvreader) # skip header\n",
    "    for line in csvreader:\n",
    "\n",
    "## TO-DO: Assign the INSERT statements into the `query` variable\n",
    "        query = \"INSERT INTO users_tbl (artist_name, c, user_firstname, user_lastname, \\\n",
    "user_id, session_id, item_session)\"\n",
    "        query = query + \"VALUES (%s, %s, %s, %s, %s, %s, %s)\"\n",
    "        \n",
    "        ## TO-DO: Assign which column element should be assigned for each column in the INSERT statement.\n",
    "        ## For e.g., to INSERT artist_name and user first_name, you would change the code below to `line[0], line[1]`\n",
    "        \n",
    "        # I did typecasting to match the table model\n",
    "        session.execute(query, (line[0], line[9], line[1], line[4], int(line[10]), int(line[8]), int(line[3]))) "
   ]
  },
  {
   "cell_type": "code",
   "execution_count": null,
   "id": "7a0a77a0",
   "metadata": {},
   "outputs": [],
   "source": [
    "## TO-DO: Add in the SELECT statement to verify the data was entered into the table\n",
    "\n",
    "query = \"SELECT artist_name, song_title, user_firstname, user_lastname FROM users_tbl \\\n",
    "WHERE user_id = 10 AND session_id = 182 ORDER BY item_session\"\n",
    "try:\n",
    "    rows = session.execute(query)\n",
    "except Exception as e:\n",
    "    print(e)\n",
    "    \n",
    "for row in rows:\n",
    "    print(row.artist_name, row.song_title, row.user_firstname, row.user_lastname)"
   ]
  },
  {
   "cell_type": "markdown",
   "id": "7512ee2e",
   "metadata": {},
   "source": [
    "#### Query 3"
   ]
  },
  {
   "cell_type": "code",
   "execution_count": null,
   "id": "66ed7f0c",
   "metadata": {},
   "outputs": [],
   "source": [
    "## TO-DO: Query 3: Give me every user name (first and last) in my music app history who listened to the song 'All Hands Against His Own'\n",
    "   \n",
    "query = 'CREATE TABLE IF NOT EXISTS user_song_tbl'\n",
    "query = query + \"(user_firstname text, user_lastname text, song_title text, PRIMARY KEY (song_title, user_lastname))\"\n",
    "\n",
    "try:\n",
    "    session.execute(query)\n",
    "except Exception as e:\n",
    "    print(e)\n",
    "                    "
   ]
  },
  {
   "cell_type": "code",
   "execution_count": null,
   "id": "78ab8985",
   "metadata": {},
   "outputs": [],
   "source": [
    "# We have provided part of the code to set up the CSV file. Please complete the Apache Cassandra code below#\n",
    "file = 'event_datafile_new.csv'\n",
    "\n",
    "with open(file, encoding = 'utf8') as f:\n",
    "    csvreader = csv.reader(f)\n",
    "    next(csvreader) # skip header\n",
    "    for line in csvreader:\n",
    "\n",
    "## TO-DO: Assign the INSERT statements into the `query` variable\n",
    "        query = \"INSERT INTO user_song_tbl (user_firstname, user_lastname, song_title)\"\n",
    "        query = query + \"VALUES (%s, %s, %s)\"\n",
    "        \n",
    "        ## TO-DO: Assign which column element should be assigned for each column in the INSERT statement.\n",
    "        ## For e.g., to INSERT artist_name and user first_name, you would change the code below to `line[0], line[1]`\n",
    "        \n",
    "        # I did typecasting to match the table model\n",
    "        session.execute(query, (line[1], line[4], line[9])) "
   ]
  },
  {
   "cell_type": "code",
   "execution_count": null,
   "id": "ce1ffb97",
   "metadata": {},
   "outputs": [],
   "source": [
    "## TO-DO: Add in the SELECT statement to verify the data was entered into the table\n",
    "\n",
    "query = \"SELECT user_firstname, user_lastname FROM user_song_tbl WHERE song_title = 'All Hands Against His Own'\"\n",
    "try:\n",
    "    rows = session.execute(query)\n",
    "except Exception as e:\n",
    "    print(e)\n",
    "    \n",
    "for row in rows:\n",
    "    print(row.user_firstname, row.user_lastname)"
   ]
  },
  {
   "cell_type": "markdown",
   "id": "796d2763",
   "metadata": {},
   "source": [
    "#### Drop tables"
   ]
  },
  {
   "cell_type": "code",
   "execution_count": null,
   "id": "5ac5556c",
   "metadata": {},
   "outputs": [],
   "source": [
    "query = \"DROP TABLE song_session_tbl\"\n",
    "try:\n",
    "    rows = session.execute(query)\n",
    "except Exception as e:\n",
    "    print(e)\n",
    "    \n",
    "query1 = \"DROP TABLE users_tbl\"\n",
    "try:\n",
    "    rows = session.execute(query1)\n",
    "except Exception as e:\n",
    "    print(e)\n",
    "    \n",
    "query2 = \"DROP TABLE user_song_tbl\"\n",
    "try:\n",
    "    rows = session.execute(query2)\n",
    "except Exception as e:\n",
    "    print(e)"
   ]
  },
  {
   "cell_type": "markdown",
   "id": "aed2c924",
   "metadata": {},
   "source": [
    "#### Shut sessions"
   ]
  },
  {
   "cell_type": "code",
   "execution_count": null,
   "id": "57bee5fa",
   "metadata": {},
   "outputs": [],
   "source": [
    "session.shutdown()\n",
    "cluster.shutdown()"
   ]
  },
  {
   "cell_type": "code",
   "execution_count": null,
   "id": "1c24b4bb",
   "metadata": {},
   "outputs": [],
   "source": []
  },
  {
   "cell_type": "code",
   "execution_count": null,
   "id": "80c006e6",
   "metadata": {},
   "outputs": [],
   "source": []
  }
 ],
 "metadata": {
  "kernelspec": {
   "display_name": "Python 3 (ipykernel)",
   "language": "python",
   "name": "python3"
  },
  "language_info": {
   "codemirror_mode": {
    "name": "ipython",
    "version": 3
   },
   "file_extension": ".py",
   "mimetype": "text/x-python",
   "name": "python",
   "nbconvert_exporter": "python",
   "pygments_lexer": "ipython3",
   "version": "3.10.9"
  }
 },
 "nbformat": 4,
 "nbformat_minor": 5
}

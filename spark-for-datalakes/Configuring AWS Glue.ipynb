{
 "cells": [
  {
   "cell_type": "markdown",
   "id": "41a924c8",
   "metadata": {},
   "source": [
    "### Setting up S3 VPC Gateway Endpoint"
   ]
  },
  {
   "cell_type": "markdown",
   "id": "130b878c",
   "metadata": {},
   "source": [
    "Step 1 - Create a S3 bucket \n",
    "\n",
    " `aws s3 mb s3://_______` where the blank space is the name of the bucket like ` aws s3 mb s3://semistify` "
   ]
  },
  {
   "cell_type": "markdown",
   "id": "4445e940",
   "metadata": {},
   "source": [
    "Step 2 - S3 Gateway points\n",
    "\n",
    "a. Identify the VPC that needs access to S3 using `aws ec2 describe-vpcs`\n",
    "\n",
    "output like this:"
   ]
  },
  {
   "cell_type": "code",
   "execution_count": null,
   "id": "9dc83b0e",
   "metadata": {},
   "outputs": [],
   "source": [
    "{   \"Vpcs\": [\n",
    "        {\n",
    "            \"CidrBlock\": \"172.31.0.0/16\",\n",
    "            \"DhcpOptionsId\": \"dopt-045e9b07b84816bff\",\n",
    "            \"State\": \"available\",\n",
    "            \"VpcId\": \"vpc-03cc1cc1e02d0160d\",\n",
    "            \"OwnerId\": \"066642259352\",\n",
    "            \"InstanceTenancy\": \"default\",\n",
    "            \"CidrBlockAssociationSet\": [\n",
    "                {\n",
    "                    \"AssociationId\": \"vpc-cidr-assoc-0958012b90f676611\",\n",
    "                    \"CidrBlock\": \"172.31.0.0/16\",\n",
    "                    \"CidrBlockState\": {\n",
    "                        \"State\": \"associated\"\n",
    "                    }\n",
    "                }\n",
    "            ],\n",
    "            \"IsDefault\": true\n",
    "        }\n",
    "    ]\n",
    "}"
   ]
  },
  {
   "cell_type": "markdown",
   "id": "e75248f1",
   "metadata": {},
   "source": [
    "b. Identify the Routing table you want to configure with your VPC Gateway using `aws ec2 describe-route-tables`\n",
    "\n",
    "Output like this:"
   ]
  },
  {
   "cell_type": "code",
   "execution_count": null,
   "id": "79409478",
   "metadata": {},
   "outputs": [],
   "source": [
    "{\n",
    "    \"RouteTables\": [\n",
    "        {\n",
    "            \"Associations\": [\n",
    "                {\n",
    "                    \"Main\": true,\n",
    "                    \"RouteTableAssociationId\": \"rtbassoc-00ba3298a85a29c61\",\n",
    "                    \"RouteTableId\": \"rtb-0daedd7d2022f5ac6\",\n",
    "                    \"AssociationState\": {\n",
    "                        \"State\": \"associated\"\n",
    "                    }\n",
    "                }\n",
    "            ],\n",
    "            \"PropagatingVgws\": [],\n",
    "            \"RouteTableId\": \"rtb-0daedd7d2022f5ac6\",\n",
    "            \"Routes\": [\n",
    "                {\n",
    "                    \"DestinationCidrBlock\": \"172.31.0.0/16\",\n",
    "                    \"GatewayId\": \"local\",\n",
    "                    \"Origin\": \"CreateRouteTable\",\n",
    "                    \"State\": \"active\"\n",
    "                },\n",
    "                {\n",
    "                    \"DestinationCidrBlock\": \"0.0.0.0/0\",\n",
    "                    \"GatewayId\": \"igw-09e6be4ae3236dada\",\n",
    "                    \"Origin\": \"CreateRoute\",\n",
    "                    \"State\": \"active\"\n",
    "                }\n",
    "            ],\n",
    "            \"Tags\": [],\n",
    "            \"VpcId\": \"vpc-03cc1cc1e02d0160d\",\n",
    "            \"OwnerId\": \"066642259352\"\n",
    "        }\n",
    "    ]\n",
    "}"
   ]
  },
  {
   "cell_type": "markdown",
   "id": "d0ab4226",
   "metadata": {},
   "source": [
    "c. Create an S3 Gateway Endpoint with `aws ec2 create-vpc-endpoint --vpc-id _____ --service-name com.amazonaws.us-east-1.s3 --route-table-ids _________` replacing the blacns with the VPC and Routing Table Ids\n",
    "\n",
    "`aws ec2 create-vpc-endpoint --vpc-id vpc-03cc1cc1e02d0160d --service-name com.amazonaws.us-east-1.s3 --route-table-ids rtb-0daedd7d2022f5ac6`"
   ]
  },
  {
   "cell_type": "code",
   "execution_count": null,
   "id": "de40a14b",
   "metadata": {},
   "outputs": [],
   "source": [
    "}\n",
    "    \"VpcEndpoint\": {\n",
    "        \"VpcEndpointId\": \"vpce-08390c67d9ee98e77\",\n",
    "        \"VpcEndpointType\": \"Gateway\",\n",
    "        \"VpcId\": \"vpc-03cc1cc1e02d0160d\",\n",
    "        \"ServiceName\": \"com.amazonaws.us-east-1.s3\",\n",
    "        \"State\": \"available\",\n",
    "        \"PolicyDocument\": \"{\\\"Version\\\":\\\"2008-10-17\\\",\\\"Statement\\\":[{\\\"Effect\\\":\\\"Allow\\\",\\\"Principal\\\":\\\"*\\\",\\\"Action\\\":\\\"*\\\",\\\"Resource\\\":\\\"*\\\"}]}\",\n",
    "        \"RouteTableIds\": [\n",
    "            \"rtb-0daedd7d2022f5ac6\"\n",
    "        ],\n",
    "        \"SubnetIds\": [],\n",
    "        \"Groups\": [],\n",
    "        \"PrivateDnsEnabled\": false,\n",
    "        \"RequesterManaged\": false,\n",
    "        \"NetworkInterfaceIds\": [],\n",
    "        \"DnsEntries\": [],\n",
    "        \"CreationTimestamp\": \"2023-03-16T04:29:59+00:00\",\n",
    "        \"OwnerId\": \"066642259352\"\n",
    "    }\n",
    "}"
   ]
  },
  {
   "cell_type": "code",
   "execution_count": null,
   "id": "e0cdb055",
   "metadata": {},
   "outputs": [],
   "source": []
  },
  {
   "cell_type": "markdown",
   "id": "25af3ab2",
   "metadata": {},
   "source": [
    "### Creating the Glue Service Role"
   ]
  },
  {
   "cell_type": "markdown",
   "id": "5fa277e8",
   "metadata": {},
   "source": [
    "a. Create an IAM Service role that would allow AWS Glue act in accessing S3 bucket and other resources:"
   ]
  },
  {
   "cell_type": "code",
   "execution_count": null,
   "id": "16500e70",
   "metadata": {},
   "outputs": [],
   "source": [
    "aws iam create-role --role-name my-glue-service-role --assume-role-policy-document '{\n",
    "    \"Version\": \"2012-10-17\",\n",
    "    \"Statement\": [\n",
    "        {\n",
    "            \"Effect\": \"Allow\",\n",
    "            \"Principal\": {\n",
    "                \"Service\": \"glue.amazonaws.com\"\n",
    "            },\n",
    "            \"Action\": \"sts:AssumeRole\"\n",
    "        }\n",
    "    ]\n",
    "}'"
   ]
  },
  {
   "cell_type": "markdown",
   "id": "07f6308a",
   "metadata": {},
   "source": [
    "b. Grant Glue privileges on the S3 Bucket. \n",
    "\n",
    "Replacing the two blanks in the command below with an already-created S3 bucket.\n",
    "\n",
    "The S3 path starts with `arn:aws:s3:::`. ARN is an AWS Resource Name, with the general format of `arn:[aws/aws-cn/aws-us-gov]:[service]:[region]:[account-id]:[resource-id]`.\n",
    "\n",
    "The three points after S3 is because buckets can be cross-region or cross-account, for sharing data with client or versa. A cross account S3 bucket would be neccesary in such scenario:"
   ]
  },
  {
   "cell_type": "code",
   "execution_count": null,
   "id": "8ebf31fb",
   "metadata": {},
   "outputs": [],
   "source": [
    "aws iam put-role-policy --role-name my-glue-service-role --policy-name S3Access --policy-document \n",
    "'{ \"Version\": \"2012-10-17\", \n",
    "    \"Statement\": [ \n",
    "        { \n",
    "            \"Sid\": \"ListObjectsInBucket\", \n",
    "            \"Effect\": \"Allow\", \n",
    "            \"Action\": [ \"s3:ListBucket\" ], \n",
    "            \"Resource\": [ \"arn:aws:s3:::_______\" ] \n",
    "        }, \n",
    "        { \n",
    "            \"Sid\": \"AllObjectActions\", \n",
    "            \"Effect\": \"Allow\", \n",
    "            \"Action\": \"s3:*Object\", \n",
    "            \"Resource\": [ \"arn:aws:s3:::_______/*\" ] \n",
    "        } \n",
    "    ] \n",
    "        }'"
   ]
  },
  {
   "cell_type": "markdown",
   "id": "fff537c3",
   "metadata": {},
   "source": [
    "c. Give Glue Access to data in special S3 buckets used for Glue configurations"
   ]
  },
  {
   "cell_type": "code",
   "execution_count": null,
   "id": "40de572e",
   "metadata": {},
   "outputs": [],
   "source": [
    "aws iam put-role-policy --role-name my-glue-service-role --policy-name GlueAccess --policy-document '{\n",
    "    \"Version\": \"2012-10-17\",\n",
    "    \"Statement\": [\n",
    "        {\n",
    "            \"Effect\": \"Allow\",\n",
    "            \"Action\": [\n",
    "                \"glue:*\",\n",
    "                \"s3:GetBucketLocation\",\n",
    "                \"s3:ListBucket\",\n",
    "                \"s3:ListAllMyBuckets\",\n",
    "                \"s3:GetBucketAcl\",\n",
    "                \"ec2:DescribeVpcEndpoints\",\n",
    "                \"ec2:DescribeRouteTables\",\n",
    "                \"ec2:CreateNetworkInterface\",\n",
    "                \"ec2:DeleteNetworkInterface\",\n",
    "                \"ec2:DescribeNetworkInterfaces\",\n",
    "                \"ec2:DescribeSecurityGroups\",\n",
    "                \"ec2:DescribeSubnets\",\n",
    "                \"ec2:DescribeVpcAttribute\",\n",
    "                \"iam:ListRolePolicies\",\n",
    "                \"iam:GetRole\",\n",
    "                \"iam:GetRolePolicy\",\n",
    "                \"cloudwatch:PutMetricData\"\n",
    "            ],\n",
    "            \"Resource\": [\n",
    "                \"*\"\n",
    "            ]\n",
    "        },\n",
    "        {\n",
    "            \"Effect\": \"Allow\",\n",
    "            \"Action\": [\n",
    "                \"s3:CreateBucket\",\n",
    "                \"s3:PutBucketPublicAccessBlock\"\n",
    "            ],\n",
    "            \"Resource\": [\n",
    "                \"arn:aws:s3:::aws-glue-*\"\n",
    "            ]\n",
    "        },\n",
    "        {\n",
    "            \"Effect\": \"Allow\",\n",
    "            \"Action\": [\n",
    "                \"s3:GetObject\",\n",
    "                \"s3:PutObject\",\n",
    "                \"s3:DeleteObject\"\n",
    "            ],\n",
    "            \"Resource\": [\n",
    "                \"arn:aws:s3:::aws-glue-*/*\",\n",
    "                \"arn:aws:s3:::*/*aws-glue-*/*\"\n",
    "            ]\n",
    "        },\n",
    "        {\n",
    "            \"Effect\": \"Allow\",\n",
    "            \"Action\": [\n",
    "                \"s3:GetObject\"\n",
    "            ],\n",
    "            \"Resource\": [\n",
    "                \"arn:aws:s3:::crawler-public*\",\n",
    "                \"arn:aws:s3:::aws-glue-*\"\n",
    "            ]\n",
    "        },\n",
    "        {\n",
    "            \"Effect\": \"Allow\",\n",
    "            \"Action\": [\n",
    "                \"logs:CreateLogGroup\",\n",
    "                \"logs:CreateLogStream\",\n",
    "                \"logs:PutLogEvents\",\n",
    "                \"logs:AssociateKmsKey\"\n",
    "            ],\n",
    "            \"Resource\": [\n",
    "                \"arn:aws:logs:*:*:/aws-glue/*\"\n",
    "            ]\n",
    "        },\n",
    "        {\n",
    "            \"Effect\": \"Allow\",\n",
    "            \"Action\": [\n",
    "                \"ec2:CreateTags\",\n",
    "                \"ec2:DeleteTags\"\n",
    "            ],\n",
    "            \"Condition\": {\n",
    "                \"ForAllValues:StringEquals\": {\n",
    "                    \"aws:TagKeys\": [\n",
    "                        \"aws-glue-service-resource\"\n",
    "                    ]\n",
    "                }\n",
    "            },\n",
    "            \"Resource\": [\n",
    "                \"arn:aws:ec2:*:*:network-interface/*\",\n",
    "                \"arn:aws:ec2:*:*:security-group/*\",\n",
    "                \"arn:aws:ec2:*:*:instance/*\"\n",
    "            ]\n",
    "        }\n",
    "    ]\n",
    "}'"
   ]
  },
  {
   "cell_type": "code",
   "execution_count": null,
   "id": "1f011480",
   "metadata": {},
   "outputs": [],
   "source": []
  },
  {
   "cell_type": "code",
   "execution_count": null,
   "id": "304b7088",
   "metadata": {},
   "outputs": [],
   "source": []
  },
  {
   "cell_type": "code",
   "execution_count": null,
   "id": "c14152e7",
   "metadata": {},
   "outputs": [],
   "source": [
    "'{ \"Version\": \"2012-10-17\", \n",
    "    \"Statement\": [ \n",
    "        { \n",
    "            \"Sid\": \"ListObjectsInBucket\", \n",
    "            \"Effect\": \"Allow\", \n",
    "            \"Action\": [ \"s3:ListBucket\" ], \n",
    "            \"Resource\": [ \"arn:aws:s3:::semistify\" ] \n",
    "        }, \n",
    "        { \n",
    "            \"Sid\": \"AllObjectActions\", \n",
    "            \"Effect\": \"Allow\", \n",
    "            \"Action\": \"s3:*Object\", \n",
    "            \"Resource\": [ \"arn:aws:s3:::semistify/*\" ] \n",
    "        } \n",
    "    ] \n",
    "        }'"
   ]
  },
  {
   "cell_type": "code",
   "execution_count": null,
   "id": "8850ba5c",
   "metadata": {},
   "outputs": [],
   "source": []
  },
  {
   "cell_type": "code",
   "execution_count": null,
   "id": "4d33e1a8",
   "metadata": {},
   "outputs": [],
   "source": [
    "semistify"
   ]
  },
  {
   "cell_type": "code",
   "execution_count": null,
   "id": "ac01148d",
   "metadata": {},
   "outputs": [],
   "source": []
  },
  {
   "cell_type": "code",
   "execution_count": null,
   "id": "cfbe0f02",
   "metadata": {},
   "outputs": [],
   "source": []
  },
  {
   "cell_type": "code",
   "execution_count": null,
   "id": "2e15b10c",
   "metadata": {},
   "outputs": [],
   "source": []
  },
  {
   "cell_type": "code",
   "execution_count": null,
   "id": "f10516b3",
   "metadata": {},
   "outputs": [],
   "source": []
  }
 ],
 "metadata": {
  "kernelspec": {
   "display_name": "Python 3 (ipykernel)",
   "language": "python",
   "name": "python3"
  },
  "language_info": {
   "codemirror_mode": {
    "name": "ipython",
    "version": 3
   },
   "file_extension": ".py",
   "mimetype": "text/x-python",
   "name": "python",
   "nbconvert_exporter": "python",
   "pygments_lexer": "ipython3",
   "version": "3.10.10"
  }
 },
 "nbformat": 4,
 "nbformat_minor": 5
}

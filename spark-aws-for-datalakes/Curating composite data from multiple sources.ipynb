{
 "cells": [
  {
   "cell_type": "code",
   "execution_count": null,
   "id": "aae4644e",
   "metadata": {},
   "outputs": [],
   "source": []
  },
  {
   "cell_type": "code",
   "execution_count": null,
   "id": "7699da3c",
   "metadata": {},
   "outputs": [],
   "source": [
    "import sys\n",
    "from awsglue.transforms import *\n",
    "from awsglue.utils import getResolvedOptions\n",
    "from pyspark.context import SparkContext\n",
    "from awsglue.context import GlueContext\n",
    "from awsglue.job import Job\n",
    "\n",
    "args = getResolvedOptions(sys.argv, [\"JOB_NAME\"])\n",
    "sc = SparkContext()\n",
    "glueContext = GlueContext(sc)\n",
    "spark = glueContext.spark_session\n",
    "job = Job(glueContext)\n",
    "job.init(args[\"JOB_NAME\"], args)\n",
    "\n",
    "# Script generated for node CustomerTrusted\n",
    "CustomerTrusted_node1 = glueContext.create_dynamic_frame.from_catalog(\n",
    "    database=\"stedi\",\n",
    "    table_name=\"customer_trusted\",\n",
    "    transformation_ctx=\"CustomerTrusted_node1\",\n",
    ")\n",
    "\n",
    "# Script generated for node Accelerometer_Landing\n",
    "Accelerometer_Landing_node1661863916489 = glueContext.create_dynamic_frame.from_catalog(\n",
    "    database=\"stedi\",\n",
    "    table_name=\"accelerometer_landing\",\n",
    "    transformation_ctx=\"Accelerometer_Landing_node1661863916489\",\n",
    ")\n",
    "\n",
    "# Script generated for node Join\n",
    "Join_node2 = Join.apply(\n",
    "    frame1=CustomerTrusted_node1,\n",
    "    frame2=Accelerometer_Landing_node1661863916489,\n",
    "    keys1=[\"email\"],\n",
    "    keys2=[\"user\"],\n",
    "    transformation_ctx=\"Join_node2\",\n",
    ")\n",
    "\n",
    "# Script generated for node Drop Fields\n",
    "DropFields_node1661868048175 = DropFields.apply(\n",
    "    frame=Join_node2,\n",
    "    paths=[\"x\", \"y\", \"z\", \"user\", \"timestamp\"],\n",
    "    transformation_ctx=\"DropFields_node1661868048175\",\n",
    ")\n",
    "\n",
    "# Script generated for node CustomerCurated\n",
    "CustomerCurated_node3 = glueContext.write_dynamic_frame.from_options(\n",
    "    frame=DropFields_node1661868048175,\n",
    "    connection_type=\"s3\",\n",
    "    format=\"json\",\n",
    "    connection_options={\n",
    "        \"path\": \"s3://stedi-lake-house/customer/curated/\",\n",
    "        \"partitionKeys\": [],\n",
    "    },\n",
    "    transformation_ctx=\"CustomerCurated_node3\",\n",
    ")\n",
    "\n",
    "job.commit()"
   ]
  },
  {
   "cell_type": "code",
   "execution_count": null,
   "id": "9ca7276f",
   "metadata": {},
   "outputs": [],
   "source": []
  }
 ],
 "metadata": {
  "kernelspec": {
   "display_name": "Python 3 (ipykernel)",
   "language": "python",
   "name": "python3"
  },
  "language_info": {
   "codemirror_mode": {
    "name": "ipython",
    "version": 3
   },
   "file_extension": ".py",
   "mimetype": "text/x-python",
   "name": "python",
   "nbconvert_exporter": "python",
   "pygments_lexer": "ipython3",
   "version": "3.10.11"
  }
 },
 "nbformat": 4,
 "nbformat_minor": 5
}

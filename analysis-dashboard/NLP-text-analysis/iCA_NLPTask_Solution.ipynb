{
  "nbformat": 4,
  "nbformat_minor": 0,
  "metadata": {
    "colab": {
      "name": "iCA-NLPTask-Solution.ipynb",
      "provenance": [],
      "collapsed_sections": []
    },
    "kernelspec": {
      "name": "python3",
      "display_name": "Python 3"
    },
    "language_info": {
      "name": "python"
    }
  },
  "cells": [
    {
      "cell_type": "code",
      "source": [
        "# Import the neccesary libraries \n",
        "\n",
        "import pandas as pd\n",
        "import re"
      ],
      "metadata": {
        "id": "87zaaxL3hRP6"
      },
      "execution_count": null,
      "outputs": []
    },
    {
      "cell_type": "code",
      "source": [
        "# Path to the CSV data file - mounted on my Google Drive\n",
        "\n",
        "data_path = \"/content/drive/MyDrive/Task_data (1) (3).csv\""
      ],
      "metadata": {
        "id": "Oh5zaCxac_Vf"
      },
      "execution_count": null,
      "outputs": []
    },
    {
      "cell_type": "code",
      "source": [
        "# Function to convert the CSV file to a dataframe. It takes the path to the data file as parameter and returns a dataframe of the data\n",
        "\n",
        "def csv_to_df(path):\n",
        "  datadf = pd.read_csv(path, low_memory=False)\n",
        "  return datadf"
      ],
      "metadata": {
        "id": "JMLGQzd5c_Sv"
      },
      "execution_count": null,
      "outputs": []
    },
    {
      "cell_type": "code",
      "source": [
        "# Function to extract the keyphrases per text description. It takes a text description as a parameter and return a dictionary data structure\n",
        "# where the columns to be populated in the dataframe are the keys\n",
        "\n",
        "def extract_keyphrases(text_description):\n",
        "\n",
        "  keywords_dict = {}\n",
        "  \n",
        "  text_list = text_description.split(\".\")\n",
        "  for text_sub in text_list:\n",
        "    if bool(re.search(\"device\", text_sub, re.IGNORECASE)):\n",
        "      keywords_dict[\"keywords (Device Problems)\"] = text_sub\n",
        "      keywords_dict[\"keywords (Device Problems)_score\"] = None\n",
        "    \n",
        "    if bool(re.search(\"patient\", text_sub, re.IGNORECASE)):\n",
        "      keywords_dict[\"keywords (Patient Problems)\"] = text_sub\n",
        "      keywords_dict[\"keywords (Patient Problems)_score\"] = None\n",
        "    \n",
        "    else:\n",
        "      keywords_dict[\"keywords others (interesting ones)\"] = text_sub\n",
        "      keywords_dict[\"keywords others (interesting ones)_score\"] = None\n",
        "\n",
        "  return keywords_dict"
      ],
      "metadata": {
        "id": "XIIXoa5-r7IE"
      },
      "execution_count": null,
      "outputs": []
    },
    {
      "cell_type": "code",
      "source": [
        "# Call the csv_to_df function\n",
        "\n",
        "data_df = csv_to_df(data_path)"
      ],
      "metadata": {
        "id": "TXcpTWYBKcwl"
      },
      "execution_count": null,
      "outputs": []
    },
    {
      "cell_type": "code",
      "source": [
        "# Call the process_df function\n",
        "\n",
        "processed_data_df = process_df(data_df)"
      ],
      "metadata": {
        "id": "QCs3mnjUFgWz"
      },
      "execution_count": null,
      "outputs": []
    },
    {
      "cell_type": "code",
      "source": [
        "# Show the first 20 rows of the processed data frame\n",
        "\n",
        "processed_data_df.head(20)"
      ],
      "metadata": {
        "id": "BxTaD9eeFgTp"
      },
      "execution_count": null,
      "outputs": []
    },
    {
      "cell_type": "code",
      "source": [
        "# Save the processed data frame in CSV format - change the path \n",
        "\n",
        "def save_processeddf(processed_datadf):\n",
        "  processed_datadf.to_csv(\"/content/drive/MyDrive/processed_Task_data (1) (3).csv\", encoding='utf-8', index=None)"
      ],
      "metadata": {
        "id": "Y6HoPtwS--YB"
      },
      "execution_count": null,
      "outputs": []
    },
    {
      "cell_type": "code",
      "source": [
        "# Call the save_processeddf function\n",
        "\n",
        "save_processeddf(processed_data_df)"
      ],
      "metadata": {
        "id": "6s0rgTwk--St"
      },
      "execution_count": null,
      "outputs": []
    },
    {
      "cell_type": "code",
      "source": [
        "#Test script here, using the same texts for solutions 2 and 3 to see the quality of the processed data returned. This processed data \n",
        "# is expected to be used to populate the dataframe's columns requested"
      ],
      "metadata": {
        "id": "HxJcPNXMLW-b"
      },
      "execution_count": null,
      "outputs": []
    },
    {
      "cell_type": "code",
      "source": [
        "text_1 = '(b)(4). this reported event and subsequent repairs were investigated through the service repair process. failure data and parts-used information were reviewed for the sap and track wise files and found relevant to the service repair. a review of the device service history record was performed from the date of manufacture to the date corresponding to this service notification number. the database showed no quality notifications were opened for the device. a review of the device history record in sap for sn (b)(4) was performed from the date of the manufacture to date of the release of product, which confirmed that this device was not involved in a production failure, and product was returned for servicing which correlates to the customer reported issue. a trackwise complaint history review was completed, and it was confirmed that there were additional complaints received with similar sn (b)(4) for the same or related failure mode. the customer stated that there was no patient involvement.'"
      ],
      "metadata": {
        "id": "_h22FeKPLW7f"
      },
      "execution_count": null,
      "outputs": []
    },
    {
      "cell_type": "code",
      "source": [
        "text_2 = \"the patient contacted animas alleging that the subject pump auto suspends when he wakes up in the morning. there was no mention of physical damage to the pump. there was no reported patient impact associated with this complaint. (b)(4): all buttons responded to presses normally. the keypad was removed and no damage was found to the button contacts. unrelated to the complaint, evaluation revealed the internal clock battery on the pcb board had failed. the pump would not retain the user programmed date and time settings upon removal of the primary aa battery. when a new aa battery is inserted the pump displays the default date and time which must be manually confirmed (or reset) by the user in order to proceed. the pump has not been returned to animas for evaluation. animas has conducted a review of the device history record for this pump and confirmed that it was operating within required specifications at the time of release. if the device is returned, an evaluation shall be completed and a supplemental report will be filed. no conclusions can be made at this time. (b)(4).\""
      ],
      "metadata": {
        "id": "8FwAleOdLW5F"
      },
      "execution_count": null,
      "outputs": []
    },
    {
      "cell_type": "code",
      "source": [
        "text_3 = \"it was reported that the unit was knocked over and subsequently declared multiple errors indicative of a serial peripheral interface failure. there was no patient involvement. the manufacturer's remote service technician performed troubleshooting with the customer. the customer reported that a wire had broken from the battery and the wire was soldered back together. the technician advised the customer against re-soldering components and to replace the battery if damaged. the technician also recommended that the customer replace the data acquisition (da) ribbon cable, followed by the flow sensor and central processing unit (cpu) board. date of event: (b)(6) 2020. date of report: 20apr2020.\""
      ],
      "metadata": {
        "id": "GNiuHKrNLW2i"
      },
      "execution_count": null,
      "outputs": []
    },
    {
      "cell_type": "code",
      "source": [
        "text_4 = \"the service report shows the customer reported that the 840 ventilator stopped cycling while in use on a pt. the pt was not harmed or injured as a result of the event. the nellcor puritan bennett customer support engineer (cse) inspected the device and could not duplicate the alleged event. the unit passed extended self-testing and no parts were replaced. it is not verified that the vent was inoperable, and that a malfunction occurred.\""
      ],
      "metadata": {
        "id": "Zy4leTA_LWzu"
      },
      "execution_count": null,
      "outputs": []
    },
    {
      "cell_type": "code",
      "source": [
        "text_5 = \"the customer reported that the vela ventilator alarmed low pip (peak inspiratory pressure), low ve (minute ventilation) , xdcr (transducer) fault. the customer confirmed that there was no patient involvement associated with the reported event. vyaire medical file identification: (b)(4). the customer reported that they will not return the defective pcb for evaluation. therefore, no root cause could be determined . vyaire medical will submit a supplemental report in accordance with 21 cfr section 803.56 if additional information was received.\""
      ],
      "metadata": {
        "id": "aRwl7Hs8LWw9"
      },
      "execution_count": null,
      "outputs": []
    },
    {
      "cell_type": "code",
      "source": [
        "extract_keyphrases(text_1)"
      ],
      "metadata": {
        "id": "I2OPAbvBLWt5",
        "colab": {
          "base_uri": "https://localhost:8080/"
        },
        "outputId": "d0fc1a67-b0f4-4b2d-e2ae-7047ad7ae022"
      },
      "execution_count": null,
      "outputs": [
        {
          "output_type": "execute_result",
          "data": {
            "text/plain": [
              "{'keywords (Device Problems)': ' a review of the device history record in sap for sn (b)(4) was performed from the date of the manufacture to date of the release of product, which confirmed that this device was not involved in a production failure, and product was returned for servicing which correlates to the customer reported issue',\n",
              " 'keywords (Device Problems)_score': None,\n",
              " 'keywords (Patient Problems)': ' the customer stated that there was no patient involvement',\n",
              " 'keywords (Patient Problems)_score': None,\n",
              " 'keywords others (interesting ones)': '',\n",
              " 'keywords others (interesting ones)_score': None}"
            ]
          },
          "metadata": {},
          "execution_count": 15
        }
      ]
    },
    {
      "cell_type": "code",
      "source": [
        "extract_keyphrases(text_2)"
      ],
      "metadata": {
        "id": "fIrKvWb8L1MS",
        "colab": {
          "base_uri": "https://localhost:8080/"
        },
        "outputId": "66499cda-c163-43a8-c263-8900ab684e56"
      },
      "execution_count": null,
      "outputs": [
        {
          "output_type": "execute_result",
          "data": {
            "text/plain": [
              "{'keywords (Device Problems)': ' if the device is returned, an evaluation shall be completed and a supplemental report will be filed',\n",
              " 'keywords (Device Problems)_score': None,\n",
              " 'keywords (Patient Problems)': ' there was no reported patient impact associated with this complaint',\n",
              " 'keywords (Patient Problems)_score': None,\n",
              " 'keywords others (interesting ones)': '',\n",
              " 'keywords others (interesting ones)_score': None}"
            ]
          },
          "metadata": {},
          "execution_count": 16
        }
      ]
    },
    {
      "cell_type": "code",
      "source": [
        "extract_keyphrases(text_3)"
      ],
      "metadata": {
        "id": "NY4xwWNfL1CX",
        "colab": {
          "base_uri": "https://localhost:8080/"
        },
        "outputId": "15623809-9b53-4bb3-9e31-f36a0a62fbed"
      },
      "execution_count": null,
      "outputs": [
        {
          "output_type": "execute_result",
          "data": {
            "text/plain": [
              "{'keywords (Patient Problems)': ' there was no patient involvement',\n",
              " 'keywords (Patient Problems)_score': None,\n",
              " 'keywords others (interesting ones)': '',\n",
              " 'keywords others (interesting ones)_score': None}"
            ]
          },
          "metadata": {},
          "execution_count": 17
        }
      ]
    },
    {
      "cell_type": "code",
      "source": [
        "extract_keyphrases(text_4)"
      ],
      "metadata": {
        "id": "53tLGXZzL07X",
        "colab": {
          "base_uri": "https://localhost:8080/"
        },
        "outputId": "11bfa4e2-7e62-40c6-9d4d-5f7637c88b13"
      },
      "execution_count": null,
      "outputs": [
        {
          "output_type": "execute_result",
          "data": {
            "text/plain": [
              "{'keywords (Device Problems)': ' the nellcor puritan bennett customer support engineer (cse) inspected the device and could not duplicate the alleged event',\n",
              " 'keywords (Device Problems)_score': None,\n",
              " 'keywords others (interesting ones)': '',\n",
              " 'keywords others (interesting ones)_score': None}"
            ]
          },
          "metadata": {},
          "execution_count": 18
        }
      ]
    },
    {
      "cell_type": "code",
      "source": [
        "extract_keyphrases(text_5)"
      ],
      "metadata": {
        "id": "ZeSIz460L4_o",
        "colab": {
          "base_uri": "https://localhost:8080/"
        },
        "outputId": "731e3b29-1239-4920-b4f8-8d0e1a007716"
      },
      "execution_count": null,
      "outputs": [
        {
          "output_type": "execute_result",
          "data": {
            "text/plain": [
              "{'keywords (Patient Problems)': ' the customer confirmed that there was no patient involvement associated with the reported event',\n",
              " 'keywords (Patient Problems)_score': None,\n",
              " 'keywords others (interesting ones)': '',\n",
              " 'keywords others (interesting ones)_score': None}"
            ]
          },
          "metadata": {},
          "execution_count": 19
        }
      ]
    }
  ]
}
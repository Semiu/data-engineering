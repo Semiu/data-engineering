{
  "nbformat": 4,
  "nbformat_minor": 0,
  "metadata": {
    "colab": {
      "name": "iCA-NLPTask.ipynb",
      "provenance": [],
      "collapsed_sections": []
    },
    "kernelspec": {
      "name": "python3",
      "display_name": "Python 3"
    },
    "language_info": {
      "name": "python"
    }
  },
  "cells": [
    {
      "cell_type": "markdown",
      "source": [
        "**NLP Task - Text extraction and processing. **\n",
        "\n",
        "The feature 'TEXT DESCRIPTION' in the provided dataset is a narrative on some medical device adverse events. The \"TEXT DESCRIPTION\" is analyzed to extract respective interesting keywords/phrases for the device problem, device problem score (a rating of the problem where applicable), patient problem, the patient problem score (a rating of the problem where applicable), and any other interesting problem and its rating. \n",
        "\n",
        "These extracted keywords or phrases are populated into columns D - I of the dataset."
      ],
      "metadata": {
        "id": "sYvjFjiQhR6J"
      }
    },
    {
      "cell_type": "code",
      "source": [
        "# Import the neccesary libraries \n",
        "\n",
        "import pandas as pd\n",
        "import re"
      ],
      "metadata": {
        "id": "87zaaxL3hRP6"
      },
      "execution_count": 1,
      "outputs": []
    },
    {
      "cell_type": "code",
      "source": [
        "# Path to the CSV data file - mounted on my Google Drive\n",
        "\n",
        "data_path = \"/content/drive/MyDrive/Task_data (1) (3).csv\""
      ],
      "metadata": {
        "id": "Oh5zaCxac_Vf"
      },
      "execution_count": null,
      "outputs": []
    },
    {
      "cell_type": "code",
      "source": [
        "# Function to convert the CSV file to a dataframe. It takes the path to the data file as parameter and returns a dataframe of the data\n",
        "\n",
        "def csv_to_df(path):\n",
        "  datadf = pd.read_csv(path, low_memory=False)\n",
        "  return datadf"
      ],
      "metadata": {
        "id": "JMLGQzd5c_Sv"
      },
      "execution_count": null,
      "outputs": []
    },
    {
      "cell_type": "code",
      "source": [
        "# Function to extract the keyphrases per text description. It takes a text description as a parameter and return a dictionary data structure\n",
        "# where the columns to be populated in the dataframe are the keys\n",
        "\n",
        "def extract_keyphrases_1(text_description):\n",
        "\n",
        "  keywords_dict = {}\n",
        "  \n",
        "  text_list = text_description.split(\".\")\n",
        "  for text_sub in text_list:\n",
        "    if bool(re.search(\"device\", text_sub, re.IGNORECASE)):\n",
        "      keywords_dict[\"keywords (Device Problems)\"] = text_sub\n",
        "      keywords_dict[\"keywords (Device Problems)_score\"] = \"\"\n",
        "    else:\n",
        "      keywords_dict[\"keywords (Device Problems)\"] = \"\"\n",
        "      keywords_dict[\"keywords (Device Problems)_score\"] = \"\"\n",
        "    \n",
        "    if bool(re.search(\"patient\", text_sub, re.IGNORECASE)):\n",
        "      keywords_dict[\"keywords (Patient Problems)\"] = text_sub\n",
        "      keywords_dict[\"keywords (Patient Problems)_score\"] = \"\"\n",
        "    \n",
        "    else:\n",
        "      keywords_dict[\"keywords (Patient Problems)\"] = \"\"\n",
        "      keywords_dict[\"keywords (Patient Problems)_score\"] = \"\"\n",
        "\n",
        "      keywords_dict[\"keywords others (interesting ones)\"] = text_sub\n",
        "      keywords_dict[\"keywords others (interesting ones)_score\"] = \"\"\n",
        "\n",
        "  return keywords_dict"
      ],
      "metadata": {
        "id": "XIIXoa5-r7IE"
      },
      "execution_count": null,
      "outputs": []
    },
    {
      "cell_type": "code",
      "source": [
        "#Function for process the data frame as required\n",
        "def process_df(datadf):\n",
        "  for idx in range (len(datadf)):\n",
        "    for text in datadf[\"TEXT DESCRIPTION\"]:\n",
        "\n",
        "      keywords_to_use = extract_keyphrases_1(text) # The extract... function will be changed to different ones to compare which is the best\n",
        "\n",
        "      datadf.at[idx, 'keywords (Device Problems)'] = keywords_to_use['keywords (Device Problems)']\n",
        "      datadf.at[idx, 'keywords (Device Problems)_score\"'] = keywords_to_use['keywords (Device Problems)_score\"']\n",
        "      datadf.at[idx, \"keywords (Patient Problems)\"] = keywords_to_use[\"keywords (Patient Problems)\"]\n",
        "      datadf.at[idx, 'keywords (Patient Problems)_score'] = keywords_to_use['keywords (Patient Problems)_score']\n",
        "      datadf.at[idx, 'keywords others (interesting ones)'] = keywords_to_use['keywords others (interesting ones)']\n",
        "      datadf.at[idx, 'keywords others (interesting ones)_score'] = keywords_to_use['keywords others (interesting ones)_score']\n",
        "\n",
        "  return datadf\n"
      ],
      "metadata": {
        "id": "kcNayfk12InL"
      },
      "execution_count": null,
      "outputs": []
    },
    {
      "cell_type": "code",
      "source": [
        "data_df = csv_to_df(data_path)\n",
        "\n",
        "\n",
        "processed_data_df = process_df(data_df)"
      ],
      "metadata": {
        "id": "QCs3mnjUFgWz"
      },
      "execution_count": null,
      "outputs": []
    },
    {
      "cell_type": "code",
      "source": [
        "processed_data_df.head(20)"
      ],
      "metadata": {
        "id": "BxTaD9eeFgTp"
      },
      "execution_count": null,
      "outputs": []
    },
    {
      "cell_type": "code",
      "source": [
        ""
      ],
      "metadata": {
        "id": "JN7Voj12FgQ2"
      },
      "execution_count": null,
      "outputs": []
    },
    {
      "cell_type": "code",
      "source": [
        ""
      ],
      "metadata": {
        "id": "2e8ADaeVGWDT"
      },
      "execution_count": null,
      "outputs": []
    },
    {
      "cell_type": "code",
      "source": [
        ""
      ],
      "metadata": {
        "id": "1KHKTgzgGV9n"
      },
      "execution_count": null,
      "outputs": []
    },
    {
      "cell_type": "code",
      "source": [
        ""
      ],
      "metadata": {
        "id": "W5YNBrRpGV6_"
      },
      "execution_count": null,
      "outputs": []
    },
    {
      "cell_type": "code",
      "source": [
        ""
      ],
      "metadata": {
        "id": "pY9jqCZDGVxs"
      },
      "execution_count": null,
      "outputs": []
    },
    {
      "cell_type": "code",
      "source": [
        "# Save the processed data frame in CSV format\n",
        "\n",
        "def save_processeddf(processed_datadf):\n",
        "  return processed_datadf.to_csv(\"/content/drive/MyDrive/processed_Task_data (1) (3).csv\", encoding='utf-8', index=None)"
      ],
      "metadata": {
        "id": "Y6HoPtwS--YB"
      },
      "execution_count": null,
      "outputs": []
    },
    {
      "cell_type": "code",
      "source": [
        ""
      ],
      "metadata": {
        "id": "5Okr1UB0--Ve"
      },
      "execution_count": null,
      "outputs": []
    },
    {
      "cell_type": "code",
      "source": [
        "save_processeddf(processed_data_df)"
      ],
      "metadata": {
        "id": "6s0rgTwk--St"
      },
      "execution_count": null,
      "outputs": []
    },
    {
      "cell_type": "code",
      "source": [
        ""
      ],
      "metadata": {
        "id": "r4m_N1_N--P0"
      },
      "execution_count": null,
      "outputs": []
    },
    {
      "cell_type": "code",
      "source": [
        ""
      ],
      "metadata": {
        "id": "gY4DgCGP--M5"
      },
      "execution_count": null,
      "outputs": []
    },
    {
      "cell_type": "code",
      "source": [
        ""
      ],
      "metadata": {
        "id": "l2nv7ae8--J_"
      },
      "execution_count": null,
      "outputs": []
    },
    {
      "cell_type": "code",
      "source": [
        ""
      ],
      "metadata": {
        "id": "KsheGfgz--HL"
      },
      "execution_count": null,
      "outputs": []
    },
    {
      "cell_type": "code",
      "source": [
        ""
      ],
      "metadata": {
        "id": "itqjO6pR2Ikc"
      },
      "execution_count": null,
      "outputs": []
    },
    {
      "cell_type": "markdown",
      "source": [
        ""
      ],
      "metadata": {
        "id": "NPlEQp7a4XE5"
      }
    },
    {
      "cell_type": "code",
      "source": [
        ""
      ],
      "metadata": {
        "id": "Q8y5ISqD2IhR"
      },
      "execution_count": null,
      "outputs": []
    },
    {
      "cell_type": "code",
      "source": [
        "text_length = len(text_description)"
      ],
      "metadata": {
        "id": "lS9xoBUHroRe"
      },
      "execution_count": null,
      "outputs": []
    },
    {
      "cell_type": "code",
      "source": [
        "if bool(re.search(\"device\", text_description, re.IGNORECASE)):\n",
        "  device_problem= re.split(\"device\", text_description, re.IGNORECASE)\n",
        "  print(device_problem[1].split(\".\")[0])\n",
        "elif bool(re.search(\"reported\", text_description, re.IGNORECASE)):\n",
        "  device_problem= re.split(\"reported\", text_description, re.IGNORECASE)\n",
        "  print(device_problem[1].split(\".\")[0])\n",
        "\n",
        "if bool(re.search(\"patient\", text_description, re.IGNORECASE)):\n",
        "  patient_problem = re.split(\"patient\", text_description, re.IGNORECASE)\n",
        "  print(patient_problem[1].split(\".\")[0])"
      ],
      "metadata": {
        "colab": {
          "base_uri": "https://localhost:8080/"
        },
        "id": "vCnjrctCixo2",
        "outputId": "b00e09d2-b4c7-41ae-a19d-75467f9ce70d"
      },
      "execution_count": 23,
      "outputs": [
        {
          "output_type": "stream",
          "name": "stdout",
          "text": [
            ", leading to a leak\n",
            " involvement\n"
          ]
        }
      ]
    },
    {
      "cell_type": "code",
      "source": [
        ""
      ],
      "metadata": {
        "id": "0a4mOTvMqeV_"
      },
      "execution_count": null,
      "outputs": []
    },
    {
      "cell_type": "code",
      "source": [
        "# Function to extract the keywords per text description. It takes a text description as a parameter and return a dictionary data structure\n",
        "# where the columns to be populated in the dataframe are the keys\n",
        "\n",
        "def extract_keywords(text_description):\n",
        "  keywords_dict = {}\n",
        "  \n",
        "\n",
        "\n",
        "\n",
        "\n",
        "\n",
        "\n",
        "  return keywords_dict\n"
      ],
      "metadata": {
        "id": "IR4YCEQteAOO"
      },
      "execution_count": null,
      "outputs": []
    },
    {
      "cell_type": "code",
      "source": [
        ""
      ],
      "metadata": {
        "id": "rmEFy2w8eAEP"
      },
      "execution_count": null,
      "outputs": []
    },
    {
      "cell_type": "code",
      "source": [
        "\n"
      ],
      "metadata": {
        "id": "4BdLaKifc_P-"
      },
      "execution_count": null,
      "outputs": []
    },
    {
      "cell_type": "code",
      "source": [
        "#The main function - the driver code of all other functions\n",
        "if __name__ == \"__main__\":\n",
        "  "
      ],
      "metadata": {
        "id": "-xijyDrsc_M_"
      },
      "execution_count": null,
      "outputs": []
    }
  ]
}
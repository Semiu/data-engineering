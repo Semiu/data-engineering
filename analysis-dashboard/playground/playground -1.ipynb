{
 "cells": [
  {
   "cell_type": "code",
   "execution_count": 2,
   "id": "663a4b9c",
   "metadata": {},
   "outputs": [
    {
     "name": "stdout",
     "output_type": "stream",
     "text": [
      "{'Ada': 98.0, 'Bill': 45.0, 'Charlie': 63.2, 'Teri': 35.0, 'Johanna': 52.5, 'Tomas': 37.8, 'Piotr': 65.0, 'Grzegorz': 64.8}\n"
     ]
    }
   ],
   "source": [
    "# This function takes a list of names and grades\n",
    "def get_combined_namesgrades(names, grades):\n",
    "    \n",
    "    # existing record to be concatenated with\n",
    "    student_records = {\"Ada\": 98.0, \"Bill\": 45.0, \"Charlie\": 63.2}\n",
    "    \n",
    "    # The new record is initialized\n",
    "    new_student_record = {}\n",
    "    \n",
    "    # Loop where the new student record is formed from the two lists\n",
    "    for key in names:\n",
    "        for value in grades:\n",
    "            new_student_record[key] = value\n",
    "            # This is to remove already assigned grade from the list, so that it doesn't assign it to another name \n",
    "            grades.remove(value)\n",
    "            break\n",
    "            \n",
    "    # The student is updated by the concatenation of the existing one with the new one\n",
    "    student_records = {**student_records, **new_student_record}\n",
    "    \n",
    "    # The updated record is returned\n",
    "    return student_records\n",
    "\n",
    "# The arguments (lists) we will be passing into the function as parameters\n",
    "student_names = [\"Teri\", \"Johanna\", \"Tomas\", \"Piotr\", \"Grzegorz\"]\n",
    "student_grades = [35.0, 52.5, 37.8, 65.0, 64.8]\n",
    "\n",
    "# We now have to call the function defined with the parameters, with print so that we can see the return value\n",
    "print(get_combined_namesgrades(student_names, student_grades))\n",
    "\n",
    "    "
   ]
  },
  {
   "cell_type": "code",
   "execution_count": null,
   "id": "3d796a9d",
   "metadata": {},
   "outputs": [],
   "source": []
  }
 ],
 "metadata": {
  "kernelspec": {
   "display_name": "Python 3 (ipykernel)",
   "language": "python",
   "name": "python3"
  },
  "language_info": {
   "codemirror_mode": {
    "name": "ipython",
    "version": 3
   },
   "file_extension": ".py",
   "mimetype": "text/x-python",
   "name": "python",
   "nbconvert_exporter": "python",
   "pygments_lexer": "ipython3",
   "version": "3.10.7"
  }
 },
 "nbformat": 4,
 "nbformat_minor": 5
}

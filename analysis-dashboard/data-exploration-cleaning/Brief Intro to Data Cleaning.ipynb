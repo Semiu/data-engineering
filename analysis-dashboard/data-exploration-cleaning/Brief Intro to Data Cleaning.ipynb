{
 "cells": [
  {
   "cell_type": "markdown",
   "id": "motivated-breeding",
   "metadata": {},
   "source": [
    "Run the cell one by one to have a feel of what is happening "
   ]
  },
  {
   "cell_type": "code",
   "execution_count": null,
   "id": "legislative-sport",
   "metadata": {},
   "outputs": [],
   "source": [
    "#Import the pandas library to read the data in csv into a data frame\n",
    "import pandas as pd"
   ]
  },
  {
   "cell_type": "code",
   "execution_count": null,
   "id": "right-joyce",
   "metadata": {},
   "outputs": [],
   "source": [
    "#Read the data. Now into a variable we call data here\n",
    "data = pd.read_csv('path/of/the/data')"
   ]
  },
  {
   "cell_type": "code",
   "execution_count": null,
   "id": "continuous-milton",
   "metadata": {},
   "outputs": [],
   "source": [
    "#Show the first five rows of the data, just to have a glimpse of what our data looks like\n",
    "data.head()"
   ]
  },
  {
   "cell_type": "code",
   "execution_count": null,
   "id": "distinguished-joining",
   "metadata": {},
   "outputs": [],
   "source": [
    "#Check for the missing values in the data.\n",
    "#This will return the number of missing values for each of the columns in the data\n",
    "data.isnull().sum()"
   ]
  },
  {
   "cell_type": "code",
   "execution_count": null,
   "id": "prospective-cholesterol",
   "metadata": {},
   "outputs": [],
   "source": [
    "#From the above, we must have identified columns with numerical features, and those with categorical features.\n",
    "#Their missing values would be treated differently. While numerical features would be replaced with 0 or 0.0, depending on\n",
    "#whether it is int or float, missing categorical features would be replaced with \"None\"\n",
    "\n",
    "data['name_of_the_numerical_column'].fillna(0.0, inplace=True) \n",
    "#The above replaces the missing values in the named numerical column with 0.0. Inplace means the replacement is permanent\n",
    "\n",
    "#Treat the categorical features - missing values are replaced with \"NONE\"\n",
    "data.loc[:, \"name_of_the_categorical_column\"] = data.name_of_the_categorical_column.fillna(\"NONE\")\n"
   ]
  },
  {
   "cell_type": "code",
   "execution_count": null,
   "id": "exempt-complaint",
   "metadata": {},
   "outputs": [],
   "source": [
    "#After all above is done, we must check again to confirm. This time, if all missing  values have been replaced, the sum of\n",
    "#the null, which is what the code in this cell is finding must be 0 (zero) for all the columns in the dataset.\n",
    "data.isnull().sum()"
   ]
  },
  {
   "cell_type": "code",
   "execution_count": null,
   "id": "listed-ukraine",
   "metadata": {},
   "outputs": [],
   "source": [
    "#If we intend to drop some columns from the data. Perhaps we felt they are useless or not needed\n",
    "data = data.drop('name_of_the_column', axis = 1)"
   ]
  },
  {
   "cell_type": "code",
   "execution_count": null,
   "id": "administrative-prediction",
   "metadata": {},
   "outputs": [],
   "source": [
    "#After all done, we may want to save the cleaned data for the analytics purpose\n",
    "data.to_csv(\"/the/path/to/save/our_cleaned_data.csv\", index=False)\n",
    "#Note: any name can be given to save the file, but must have the .csv extension as 'our_cleaned_data.csv'"
   ]
  },
  {
   "cell_type": "markdown",
   "id": "double-discount",
   "metadata": {},
   "source": [
    "Other links for guide in the Python-Postgres assignment:\n",
    "\n",
    " https://www.postgresqltutorial.com/postgresql-python/connect/\n",
    "\n",
    "While this link only discusses connection to postgresql with Python, on the right side of the website, there is 'PostgreSQL Python' which has a list of many other links for different operations, such as CREATE TABLE in Python, among others.\n",
    "\n",
    "Happy coding!"
   ]
  },
  {
   "cell_type": "code",
   "execution_count": null,
   "id": "fresh-prototype",
   "metadata": {},
   "outputs": [],
   "source": []
  }
 ],
 "metadata": {
  "kernelspec": {
   "display_name": "Python 3",
   "language": "python",
   "name": "python3"
  },
  "language_info": {
   "codemirror_mode": {
    "name": "ipython",
    "version": 3
   },
   "file_extension": ".py",
   "mimetype": "text/x-python",
   "name": "python",
   "nbconvert_exporter": "python",
   "pygments_lexer": "ipython3",
   "version": "3.7.9"
  }
 },
 "nbformat": 4,
 "nbformat_minor": 5
}

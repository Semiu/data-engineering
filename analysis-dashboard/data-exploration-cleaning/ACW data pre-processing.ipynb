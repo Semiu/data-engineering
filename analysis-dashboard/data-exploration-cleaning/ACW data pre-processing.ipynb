{
 "cells": [
  {
   "cell_type": "code",
   "execution_count": 69,
   "id": "188f2f70",
   "metadata": {},
   "outputs": [],
   "source": [
    "import csv\n",
    "from datetime import datetime"
   ]
  },
  {
   "cell_type": "code",
   "execution_count": 80,
   "id": "5520838c",
   "metadata": {},
   "outputs": [],
   "source": [
    "def convert_data(data):\n",
    "    \n",
    "    data_dict = {}\n",
    "    \n",
    "    data_dict['Age (Years)'] = int(data['Age (Years)'])\n",
    "    data_dict['Distance Commuted to Work (miles)'] = float(data['Distance Commuted to Work (miles)'])\n",
    "    \n",
    "    data_dict['Employer Company'] = data['Employer Company']\n",
    "    data_dict['Credit Card Info'] = {}\n",
    "    data_dict['Credit Card Info']['Credit Card Start Date'] = datetime.strptime(data['Credit Card Start Date'],'%d-%b')\n",
    "    \n",
    "    data_dict['Credit Card Info']['Credit Card Expiry Date'] = datetime.strptime(data['Credit Card Expiry Date'],'%d-%b')\n",
    "    data_dict['Credit Card Info']['Credit Card Number'] = int(float(data['Credit Card Number']))\n",
    "    data_dict['Credit Card Info']['Credit Card CVV'] = int(data['Credit Card CVV'])\n",
    "    data_dict['Credit Card Info']['Bank IBAN'] = data['Bank IBAN']\n",
    "        \n",
    "    data_dict['Address'] = {}\n",
    "    data_dict['Vehicle'] = {}\n",
    "    data_dict['Name'] = {}\n",
    "        \n",
    "    data_dict['Address']['Address Street'] = data['Address Street'] \n",
    "    data_dict['Address']['Address City'] = data['Address City'] \n",
    "    data_dict['Address']['Address Postcode'] = data['Address Postcode']\n",
    "        \n",
    "    data_dict['Vehicle']['Vehicle Make'] = data['Vehicle Make']\n",
    "    data_dict['Vehicle']['Vehicle Model'] = data['Vehicle Model']\n",
    "    data_dict['Vehicle']['Vehicle Year'] = datetime.strptime(data['Vehicle Year'],'%d-%b')\n",
    "    data_dict['Vehicle']['Vehicle Type'] = data['Vehicle Type']\n",
    "        \n",
    "    data_dict['Name']['First Name'] = data['First Name']\n",
    "    data_dict['Name']['Last Name'] = data['Last Name']\n",
    "        \n",
    "    data_dict['Dependants'] = data['Dependants']\n",
    "    data_dict['Marital Status'] = data['Marital Status']\n",
    "    data_dict['Yearly Pension (GBP)'] = float(data['Yearly Pension (GBP)'])\n",
    "    data_dict['Yearly Salary (GBP)'] = float(data['Yearly Salary (GBP)'])\n",
    "    data_dict['Retired'] = bool(data['Retired'])\n",
    "    data_dict['Sex'] = data['Sex']\n",
    "    \n",
    "    return data_dict"
   ]
  },
  {
   "cell_type": "code",
   "execution_count": null,
   "id": "283259f4",
   "metadata": {},
   "outputs": [],
   "source": [
    "def to_json(json_object):\n",
    "    \n",
    "    \n",
    "    # Writing to sample.json\n",
    "    with open(\"sample.json\", \"a\") as outfile:\n",
    "        outfile.write(json_object)"
   ]
  },
  {
   "cell_type": "code",
   "execution_count": null,
   "id": "ff99a43d",
   "metadata": {},
   "outputs": [],
   "source": []
  },
  {
   "cell_type": "code",
   "execution_count": 81,
   "id": "239c2332",
   "metadata": {},
   "outputs": [],
   "source": [
    "def format_acw_data():\n",
    "    \n",
    "    #formmated_data = []\n",
    "    \n",
    "    with open(r\"C:\\Users\\Admin\\OneDrive\\Desktop\\acw_user_data.csv\", 'r') as acw_data_file:\n",
    "        \n",
    "        acw_data = [data for data in csv.DictReader(acw_data_file)]\n",
    "        \n",
    "        for data in acw_data:\n",
    "            \n",
    "            converted_data = convert_data(data) # Call for each data\n",
    "            \n",
    "            # Serializing json\n",
    "            json_object = json.dumps(converted_data, indent=13)\n",
    "            \n",
    "            # Write it to file\n",
    "            to_json(json_object)\n",
    "            \n",
    "            #formmated_data.append(converted_data) \n",
    "            \n",
    "    return formmated_data       "
   ]
  },
  {
   "cell_type": "code",
   "execution_count": 68,
   "id": "6b106a21",
   "metadata": {},
   "outputs": [
    {
     "data": {
      "text/plain": [
       "{'Age (Years)': '64',\n",
       " 'Distance Commuted to Work (miles)': '11.11',\n",
       " 'Employer Company': 'Gray-James',\n",
       " 'Credit Card Info': {'Credit Card Start Date': '19-May',\n",
       "  'Credit Card Expiry Date': '29-Mar',\n",
       "  'Credit Card Number': '4.70749E+15',\n",
       "  'Credit Card CVV': '843',\n",
       "  'Bank IBAN': 'GB95JQAU66555098753975'},\n",
       " 'Address': {'Address Street': '2 Robert squares',\n",
       "  'Address City': 'North Martyn',\n",
       "  'Address Postcode': 'LN2 4JH'},\n",
       " 'Vehicle': {'Vehicle Make': 'Volvo',\n",
       "  'Vehicle Model': 'Tundra Double Cab',\n",
       "  'Vehicle Year': '2011',\n",
       "  'Vehicle Type': 'Sedan'},\n",
       " 'Name': {'First Name': 'Kimberley', 'Last Name': 'Turner'},\n",
       " 'Dependants': '3',\n",
       " 'Marital Status': 'married or civil partner',\n",
       " 'Yearly Pension (GBP)': '0',\n",
       " 'Yearly Salary (GBP)': '39983',\n",
       " 'Retired': 'FALSE',\n",
       " 'Sex': 'Female'}"
      ]
     },
     "execution_count": 68,
     "metadata": {},
     "output_type": "execute_result"
    }
   ],
   "source": [
    "lis[10]"
   ]
  },
  {
   "cell_type": "code",
   "execution_count": null,
   "id": "0af89026",
   "metadata": {},
   "outputs": [],
   "source": []
  },
  {
   "cell_type": "code",
   "execution_count": null,
   "id": "86b363a6",
   "metadata": {},
   "outputs": [],
   "source": []
  },
  {
   "cell_type": "code",
   "execution_count": null,
   "id": "d4a1b63a",
   "metadata": {},
   "outputs": [],
   "source": []
  }
 ],
 "metadata": {
  "kernelspec": {
   "display_name": "Python 3 (ipykernel)",
   "language": "python",
   "name": "python3"
  },
  "language_info": {
   "codemirror_mode": {
    "name": "ipython",
    "version": 3
   },
   "file_extension": ".py",
   "mimetype": "text/x-python",
   "name": "python",
   "nbconvert_exporter": "python",
   "pygments_lexer": "ipython3",
   "version": "3.10.7"
  }
 },
 "nbformat": 4,
 "nbformat_minor": 5
}

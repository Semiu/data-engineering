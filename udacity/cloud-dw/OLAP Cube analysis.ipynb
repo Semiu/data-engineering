{
 "cells": [
  {
   "cell_type": "markdown",
   "id": "ec7fe370",
   "metadata": {},
   "source": [
    "#### Roll Up and Drill Down"
   ]
  },
  {
   "cell_type": "markdown",
   "id": "b018b2bc",
   "metadata": {},
   "source": [
    "## Roll-up\n",
    "- Stepping up the level of aggregation to a large grouping\n",
    "- e.g.`city` is summed as `country`\n",
    "\n",
    "TODO: Write a query that calculates revenue (sales_amount) by day, rating, and country. Sort the data by revenue in descending order, and limit the data to the top 20 results. The first few rows of your output should match the table below."
   ]
  },
  {
   "cell_type": "code",
   "execution_count": null,
   "id": "ad3b7627",
   "metadata": {},
   "outputs": [],
   "source": [
    "%%time\n",
    "%%sql\n",
    "SELECT dt.day as day, dv.rating, ds.country, sum(fs.sales_amount) as revenue\n",
    "FROM dimdate dt \n",
    "JOIN factsales fs ON (dt.date_key = fs.date_key)\n",
    "JOIN dimmovie dv ON (dv.movie_key = fs.movie_key)\n",
    "JOIN dimstore ds ON (ds.store_key = fs.store_key)\n",
    "GROUP BY day, dv.rating, ds.country\n",
    "ORDER BY revenue DESC\n",
    "LIMIT 20;"
   ]
  },
  {
   "cell_type": "markdown",
   "id": "0e21435f",
   "metadata": {},
   "source": [
    "#### Drill down"
   ]
  },
  {
   "cell_type": "markdown",
   "id": "ce6e3421",
   "metadata": {},
   "source": [
    "## Drill-down\n",
    "- Breaking up one of the dimensions to a lower level.\n",
    "- e.g.`city` is broken up into  `districts`\n",
    "\n",
    "TODO: Write a query that calculates revenue (sales_amount) by day, rating, and district. Sort the data by revenue in descending order, and limit the data to the top 20 results. The first few rows of your output should match the table below."
   ]
  },
  {
   "cell_type": "code",
   "execution_count": null,
   "id": "6b86cc45",
   "metadata": {},
   "outputs": [],
   "source": [
    "%%time\n",
    "%%sql\n",
    "SELECT dt.day as day, dv.rating, ds.district, sum(fs.sales_amount) as revenue\n",
    "FROM dimdate dt \n",
    "JOIN factsales fs ON (dt.date_key = fs.date_key)\n",
    "JOIN dimmovie dv ON (dv.movie_key = fs.movie_key)\n",
    "JOIN dimstore ds ON (ds.store_key = fs.store_key)\n",
    "GROUP BY day, dv.rating, ds.district\n",
    "ORDER BY revenue DESC\n",
    "LIMIT 20;"
   ]
  },
  {
   "cell_type": "markdown",
   "id": "6a8c4f03",
   "metadata": {},
   "source": [
    "#### Slicing and Dicing"
   ]
  },
  {
   "cell_type": "markdown",
   "id": "84590d0f",
   "metadata": {},
   "source": [
    "# Start with a simple cube\n",
    "TODO: Write a query that calculates the revenue (sales_amount) by day, rating, and city. Remember to join with the appropriate dimension tables to replace the keys with the dimension labels. Sort by revenue in descending order and limit to the first 20 rows. The first few rows of your output should match the table below."
   ]
  },
  {
   "cell_type": "code",
   "execution_count": null,
   "id": "48b35bc9",
   "metadata": {},
   "outputs": [],
   "source": [
    "%%time\n",
    "%%sql\n",
    "SELECT dt.day as day, dv.rating, ds.city, sum(fs.sales_amount) as revenue\n",
    "FROM dimdate dt \n",
    "JOIN factsales fs ON (dt.date_key = fs.date_key)\n",
    "JOIN dimmovie dv ON (dv.movie_key = fs.movie_key)\n",
    "JOIN dimstore ds ON (ds.store_key = fs.store_key)\n",
    "GROUP BY day, dv.rating, ds.city\n",
    "ORDER BY revenue DESC\n",
    "LIMIT 20;"
   ]
  },
  {
   "cell_type": "markdown",
   "id": "10f22189",
   "metadata": {},
   "source": [
    "#### Slicing"
   ]
  },
  {
   "cell_type": "markdown",
   "id": "08ac0976",
   "metadata": {},
   "source": [
    "Slicing is the reduction of the dimensionality of a cube by 1 e.g. 3 dimensions to 2, fixing one of the dimensions to a single value. In the example above, we have a 3-dimensional cube on day, rating, and country.\n",
    "\n",
    "TODO: Write a query that reduces the dimensionality of the above example by limiting the results to only include movies with a `rating` of \"PG-13\". Again, sort by revenue in descending order and limit to the first 20 rows. The first few rows of your output should match the table below. "
   ]
  },
  {
   "cell_type": "code",
   "execution_count": null,
   "id": "96099122",
   "metadata": {},
   "outputs": [],
   "source": [
    "%%time\n",
    "%%sql\n",
    "SELECT dt.day as day, dv.rating, ds.city, sum(fs.sales_amount) as revenue\n",
    "FROM dimdate dt \n",
    "JOIN factsales fs ON (dt.date_key = fs.date_key)\n",
    "JOIN dimmovie dv ON (dv.movie_key = fs.movie_key)\n",
    "JOIN dimstore ds ON (ds.store_key = fs.store_key)\n",
    "WHERE dv.rating = 'PG-13'\n",
    "GROUP BY day, dv.rating, ds.city\n",
    "ORDER BY revenue DESC\n",
    "LIMIT 20;"
   ]
  },
  {
   "cell_type": "markdown",
   "id": "ce814821",
   "metadata": {},
   "source": [
    "## Dicing\n",
    "Dicing is creating a subcube with the same dimensionality but fewer values for  two or more dimensions. \n",
    "\n",
    "TODO: Write a query to create a subcube of the initial cube that includes moves with:\n",
    "* ratings of PG or PG-13\n",
    "* in the city of Bellevue or Lancaster\n",
    "* day equal to 1, 15, or 30\n",
    "\n",
    "The first few rows of your output should match the table below. "
   ]
  },
  {
   "cell_type": "code",
   "execution_count": null,
   "id": "9702df83",
   "metadata": {},
   "outputs": [],
   "source": [
    "%%time\n",
    "%%sql\n",
    "\n",
    "SELECT...\n",
    "FROM..."
   ]
  },
  {
   "cell_type": "markdown",
   "id": "6e41ca58",
   "metadata": {},
   "source": [
    "#### Grouping Sets"
   ]
  },
  {
   "cell_type": "code",
   "execution_count": null,
   "id": "0040c0b2",
   "metadata": {},
   "outputs": [],
   "source": []
  },
  {
   "cell_type": "code",
   "execution_count": null,
   "id": "653e1125",
   "metadata": {},
   "outputs": [],
   "source": []
  },
  {
   "cell_type": "code",
   "execution_count": null,
   "id": "c47c306d",
   "metadata": {},
   "outputs": [],
   "source": []
  },
  {
   "cell_type": "markdown",
   "id": "f1d2f04f",
   "metadata": {},
   "source": [
    "#### OLAP Cubes"
   ]
  },
  {
   "cell_type": "code",
   "execution_count": null,
   "id": "ad405177",
   "metadata": {},
   "outputs": [],
   "source": []
  },
  {
   "cell_type": "code",
   "execution_count": null,
   "id": "05c08511",
   "metadata": {},
   "outputs": [],
   "source": []
  }
 ],
 "metadata": {
  "kernelspec": {
   "display_name": "Python 3 (ipykernel)",
   "language": "python",
   "name": "python3"
  },
  "language_info": {
   "codemirror_mode": {
    "name": "ipython",
    "version": 3
   },
   "file_extension": ".py",
   "mimetype": "text/x-python",
   "name": "python",
   "nbconvert_exporter": "python",
   "pygments_lexer": "ipython3",
   "version": "3.10.9"
  }
 },
 "nbformat": 4,
 "nbformat_minor": 5
}

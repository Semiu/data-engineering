{
 "cells": [
  {
   "cell_type": "markdown",
   "id": "051e28d3",
   "metadata": {},
   "source": [
    "#### Roll Up and Drill Down"
   ]
  },
  {
   "cell_type": "markdown",
   "id": "012c9ceb",
   "metadata": {},
   "source": [
    "## Roll-up\n",
    "- Stepping up the level of aggregation to a large grouping\n",
    "- e.g.`city` is summed as `country`\n",
    "\n",
    "TODO: Write a query that calculates revenue (sales_amount) by day, rating, and country. Sort the data by revenue in descending order, and limit the data to the top 20 results. The first few rows of your output should match the table below."
   ]
  },
  {
   "cell_type": "code",
   "execution_count": null,
   "id": "1adcfd13",
   "metadata": {},
   "outputs": [],
   "source": [
    "# Mine\n",
    "%%time\n",
    "%%sql\n",
    "SELECT dt.day as day, dv.rating, ds.country, sum(fs.sales_amount) as revenue\n",
    "FROM dimdate dt \n",
    "JOIN factsales fs ON (dt.date_key = fs.date_key)\n",
    "JOIN dimmovie dv ON (dv.movie_key = fs.movie_key)\n",
    "JOIN dimstore ds ON (ds.store_key = fs.store_key)\n",
    "GROUP BY day, dv.rating, ds.country\n",
    "ORDER BY revenue DESC\n",
    "LIMIT 20;"
   ]
  },
  {
   "cell_type": "markdown",
   "id": "d7a6ff75",
   "metadata": {},
   "source": [
    "#### Drill down"
   ]
  },
  {
   "cell_type": "markdown",
   "id": "2df52dfd",
   "metadata": {},
   "source": [
    "## Drill-down\n",
    "- Breaking up one of the dimensions to a lower level.\n",
    "- e.g.`city` is broken up into  `districts`\n",
    "\n",
    "TODO: Write a query that calculates revenue (sales_amount) by day, rating, and district. Sort the data by revenue in descending order, and limit the data to the top 20 results. The first few rows of your output should match the table below."
   ]
  },
  {
   "cell_type": "code",
   "execution_count": null,
   "id": "ded6eaca",
   "metadata": {},
   "outputs": [],
   "source": [
    "# Mine\n",
    "%%time\n",
    "%%sql\n",
    "SELECT dt.day as day, dv.rating, ds.district, sum(fs.sales_amount) as revenue\n",
    "FROM dimdate dt \n",
    "JOIN factsales fs ON (dt.date_key = fs.date_key)\n",
    "JOIN dimmovie dv ON (dv.movie_key = fs.movie_key)\n",
    "JOIN dimstore ds ON (ds.store_key = fs.store_key)\n",
    "GROUP BY day, dv.rating, ds.district\n",
    "ORDER BY revenue DESC\n",
    "LIMIT 20;"
   ]
  },
  {
   "cell_type": "markdown",
   "id": "fc89b9db",
   "metadata": {},
   "source": [
    "#### Slicing and Dicing"
   ]
  },
  {
   "cell_type": "markdown",
   "id": "ffa2637f",
   "metadata": {},
   "source": [
    "# Start with a simple cube\n",
    "TODO: Write a query that calculates the revenue (sales_amount) by day, rating, and city. Remember to join with the appropriate dimension tables to replace the keys with the dimension labels. Sort by revenue in descending order and limit to the first 20 rows. The first few rows of your output should match the table below."
   ]
  },
  {
   "cell_type": "code",
   "execution_count": null,
   "id": "3b632f68",
   "metadata": {},
   "outputs": [],
   "source": [
    "# Mine\n",
    "%%time\n",
    "%%sql\n",
    "SELECT dt.day as day, dv.rating, ds.city, sum(fs.sales_amount) as revenue\n",
    "FROM dimdate dt \n",
    "JOIN factsales fs ON (dt.date_key = fs.date_key)\n",
    "JOIN dimmovie dv ON (dv.movie_key = fs.movie_key)\n",
    "JOIN dimstore ds ON (ds.store_key = fs.store_key)\n",
    "GROUP BY day, dv.rating, ds.city\n",
    "ORDER BY revenue DESC\n",
    "LIMIT 20;"
   ]
  },
  {
   "cell_type": "markdown",
   "id": "11127595",
   "metadata": {},
   "source": [
    "#### Slicing"
   ]
  },
  {
   "cell_type": "markdown",
   "id": "56358e9b",
   "metadata": {},
   "source": [
    "Slicing is the reduction of the dimensionality of a cube by 1 e.g. 3 dimensions to 2, fixing one of the dimensions to a single value. In the example above, we have a 3-dimensional cube on day, rating, and country.\n",
    "\n",
    "TODO: Write a query that reduces the dimensionality of the above example by limiting the results to only include movies with a `rating` of \"PG-13\". Again, sort by revenue in descending order and limit to the first 20 rows. The first few rows of your output should match the table below. "
   ]
  },
  {
   "cell_type": "code",
   "execution_count": null,
   "id": "e28590d9",
   "metadata": {},
   "outputs": [],
   "source": [
    "# Mine\n",
    "%%time\n",
    "%%sql\n",
    "SELECT dt.day as day, dv.rating, ds.city, sum(fs.sales_amount) as revenue\n",
    "FROM dimdate dt \n",
    "JOIN factsales fs ON (dt.date_key = fs.date_key)\n",
    "JOIN dimmovie dv ON (dv.movie_key = fs.movie_key)\n",
    "JOIN dimstore ds ON (ds.store_key = fs.store_key)\n",
    "WHERE dv.rating = 'PG-13'\n",
    "GROUP BY day, dv.rating, ds.city\n",
    "ORDER BY revenue DESC\n",
    "LIMIT 20;"
   ]
  },
  {
   "cell_type": "markdown",
   "id": "41f82ff9",
   "metadata": {},
   "source": [
    "## Dicing\n",
    "Dicing is creating a subcube with the same dimensionality but fewer values for  two or more dimensions. \n",
    "\n",
    "TODO: Write a query to create a subcube of the initial cube that includes moves with:\n",
    "* ratings of PG or PG-13\n",
    "* in the city of Bellevue or Lancaster\n",
    "* day equal to 1, 15, or 30\n",
    "\n",
    "The first few rows of your output should match the table below. "
   ]
  },
  {
   "cell_type": "code",
   "execution_count": null,
   "id": "a18fd48d",
   "metadata": {},
   "outputs": [],
   "source": [
    "# Mine\n",
    "%%time\n",
    "%%sql\n",
    "SELECT dt.day as day, dv.rating, ds.city, sum(fs.sales_amount) as revenue\n",
    "FROM dimdate dt \n",
    "JOIN factsales fs ON (dt.date_key = fs.date_key)\n",
    "JOIN dimmovie dv ON (dv.movie_key = fs.movie_key)\n",
    "JOIN dimstore ds ON (ds.store_key = fs.store_key)\n",
    "WHERE dv.rating = 'PG-13' OR dv.rating = 'PG' AND\n",
    "ds.city = 'Lancaster' OR ds.city = 'Bellevue' \n",
    "AND dt.day = 1 OR dt.day = 15 OR dt.day = 30\n",
    "GROUP BY day, dv.rating, ds.city\n",
    "ORDER BY revenue DESC\n",
    "LIMIT 20;"
   ]
  },
  {
   "cell_type": "code",
   "execution_count": null,
   "id": "4646e015",
   "metadata": {},
   "outputs": [],
   "source": [
    "# Mine\n",
    "%%time\n",
    "%%sql\n",
    "SELECT dt.day as day, dv.rating, ds.city, sum(fs.sales_amount) as revenue\n",
    "FROM dimdate dt \n",
    "JOIN factsales fs ON (dt.date_key = fs.date_key)\n",
    "JOIN dimmovie dv ON (dv.movie_key = fs.movie_key)\n",
    "JOIN dimstore ds ON (ds.store_key = fs.store_key)\n",
    "WHERE dv.rating in ('PG-13', 'PG') AND\n",
    "ds.city in ('Lancaster', 'Bellevue') AND\n",
    "dt.day in ('1','15','30')\n",
    "GROUP BY day, dv.rating, ds.city\n",
    "ORDER BY revenue DESC\n",
    "LIMIT 20;"
   ]
  },
  {
   "cell_type": "markdown",
   "id": "3d1075a8",
   "metadata": {},
   "source": [
    "#### Grouping Sets"
   ]
  },
  {
   "cell_type": "markdown",
   "id": "b615d04c",
   "metadata": {},
   "source": [
    "# Grouping Sets\n",
    "- It happens often that for 3 dimensions, you want to aggregate a fact:\n",
    "    - by nothing (total)\n",
    "    - then by the 1st dimension\n",
    "    - then by the 2nd \n",
    "    - then by the 3rd \n",
    "    - then by the 1st and 2nd\n",
    "    - then by the 2nd and 3rd\n",
    "    - then by the 1st and 3rd\n",
    "    - then by the 1st and 2nd and 3rd\n",
    "    \n",
    "- Since this is very common, and in all cases, we are iterating through all the fact table anyhow, there is a more clever way to do that using the SQL grouping statement \"GROUPING SETS\" "
   ]
  },
  {
   "cell_type": "markdown",
   "id": "b9eec333",
   "metadata": {},
   "source": [
    "## Total Revenue\n",
    "\n",
    "TODO: Write a query that calculates total revenue (sales_amount)"
   ]
  },
  {
   "cell_type": "code",
   "execution_count": null,
   "id": "4f5ff2bf",
   "metadata": {},
   "outputs": [],
   "source": [
    "# Mine\n",
    "%%sql\n",
    "SELECT sum(sales_amount) as total_revenue\n",
    "FROM factsales"
   ]
  },
  {
   "cell_type": "markdown",
   "id": "55c50362",
   "metadata": {},
   "source": [
    "## Revenue by Country\n",
    "TODO: Write a query that calculates total revenue (sales_amount) by country"
   ]
  },
  {
   "cell_type": "code",
   "execution_count": null,
   "id": "a8a1a136",
   "metadata": {},
   "outputs": [],
   "source": [
    "# Mine\n",
    "%%sql\n",
    "SELECT ds.country, sum(fs.sales_amount) as revenue\n",
    "FROM factsales fs \n",
    "JOIN dimstore ds ON (ds.store_key = fs.store_key)\n",
    "GROUP BY ds.country\n",
    "LIMIT 20;"
   ]
  },
  {
   "cell_type": "markdown",
   "id": "b57fabcf",
   "metadata": {},
   "source": [
    "## Revenue by Month\n",
    "TODO: Write a query that calculates total revenue (sales_amount) by month"
   ]
  },
  {
   "cell_type": "code",
   "execution_count": null,
   "id": "56bd120b",
   "metadata": {},
   "outputs": [],
   "source": [
    "# Mine\n",
    "%%sql\n",
    "SELECT dt.month, sum(fs.sales_amount) as revenue\n",
    "FROM dimdate dt  \n",
    "JOIN factsales fs ON (dt.date_key = fs.date_key)\n",
    "GROUP BY dt.month\n",
    "LIMIT 20;"
   ]
  },
  {
   "cell_type": "markdown",
   "id": "809743b8",
   "metadata": {},
   "source": [
    "## Revenue by Month & Country\n",
    "TODO: Write a query that calculates total revenue (sales_amount) by month and country. Sort the data by month, country, and revenue in descending order. The first few rows of your output should match the table below."
   ]
  },
  {
   "cell_type": "code",
   "execution_count": null,
   "id": "2eebcc14",
   "metadata": {},
   "outputs": [],
   "source": [
    "# Mine\n",
    "%%sql\n",
    "SELECT dt.month, ds.country, sum(fs.sales_amount) as revenue\n",
    "FROM dimdate dt \n",
    "JOIN factsales fs ON (dt.date_key = fs.date_key)\n",
    "JOIN dimstore ds ON (ds.store_key = fs.store_key)\n",
    "GROUP BY (dt.month, ds.country)\n",
    "ORDER BY dt.month, ds.country, revenue DESC\n",
    "LIMIT 20;"
   ]
  },
  {
   "cell_type": "markdown",
   "id": "49bf214b",
   "metadata": {},
   "source": [
    "## Revenue Total, by Month, by Country, by Month & Country All in one shot\n",
    "\n",
    "TODO: Write a query that calculates total revenue at the various grouping levels done above (total, by month, by country, by month & country) all at once using the grouping sets function. Your output should match the table below."
   ]
  },
  {
   "cell_type": "code",
   "execution_count": null,
   "id": "926a5078",
   "metadata": {},
   "outputs": [],
   "source": [
    "%%sql\n",
    "SELECT dt.month, ds.country, sum(fs.sales_amount) as revenue\n",
    "FROM dimdate dt \n",
    "JOIN factsales fs ON (dt.date_key = fs.date_key)\n",
    "JOIN dimstore ds ON (ds.store_key = fs.store_key)\n",
    "GROUP BY grouping sets((), dt.month, ds.country, (dt.month, ds.country));"
   ]
  },
  {
   "cell_type": "markdown",
   "id": "810062b4",
   "metadata": {},
   "source": [
    "#### OLAP Cubes"
   ]
  },
  {
   "cell_type": "markdown",
   "id": "f398049a",
   "metadata": {},
   "source": [
    "# CUBE \n",
    "- Group by CUBE (dim1, dim2, ..) , produces all combinations of different lenghts in one go.\n",
    "- This view could be materialized in a view and queried which would save lots repetitive aggregations"
   ]
  },
  {
   "cell_type": "markdown",
   "id": "db4484f1",
   "metadata": {},
   "source": [
    "TODO: Write a query that calculates the various levels of aggregation done in the grouping sets exercise (total, by month, by country, by month & country) using the CUBE function. Your output should match the table below.\n"
   ]
  },
  {
   "cell_type": "code",
   "execution_count": null,
   "id": "1f853c92",
   "metadata": {},
   "outputs": [],
   "source": [
    "%%sql\n",
    "SELECT dt.month, ds.country, sum(fs.sales_amount) as revenue\n",
    "FROM dimdate dt \n",
    "JOIN factsales fs ON (dt.date_key = fs.date_key)\n",
    "JOIN dimstore ds ON (ds.store_key = fs.store_key)\n",
    "GROUP BY cube(dt.month, ds.country);"
   ]
  },
  {
   "cell_type": "markdown",
   "id": "66a65d62",
   "metadata": {},
   "source": [
    "## Revenue Total, by Month, by Country, by Month & Country All in one shot, NAIVE way\n",
    "The naive way to create the same table as above is to write several queries and UNION them together. Grouping sets and cubes produce queries that are shorter to write, easier to read, and more performant. Run the naive query below and compare the time it takes to run to the time it takes the cube query to run."
   ]
  },
  {
   "cell_type": "code",
   "execution_count": null,
   "id": "18c98dcf",
   "metadata": {},
   "outputs": [],
   "source": [
    "%%time\n",
    "%%sql\n",
    "SELECT  NULL as month, NULL as country, sum(sales_amount) as revenue\n",
    "FROM factSales\n",
    "    UNION all \n",
    "SELECT NULL, dimStore.country,sum(sales_amount) as revenue\n",
    "FROM factSales\n",
    "JOIN dimStore on (dimStore.store_key = factSales.store_key)\n",
    "GROUP by  dimStore.country\n",
    "    UNION all \n",
    "SELECT cast(dimDate.month as text) , NULL, sum(sales_amount) as revenue\n",
    "FROM factSales\n",
    "JOIN dimDate on (dimDate.date_key = factSales.date_key)\n",
    "GROUP by dimDate.month\n",
    "    UNION all\n",
    "SELECT cast(dimDate.month as text),dimStore.country,sum(sales_amount) as revenue\n",
    "FROM factSales\n",
    "JOIN dimDate     on (dimDate.date_key         = factSales.date_key)\n",
    "JOIN dimStore on (dimStore.store_key = factSales.store_key)\n",
    "GROUP by (dimDate.month, dimStore.country)"
   ]
  },
  {
   "cell_type": "code",
   "execution_count": null,
   "id": "95db1e3c",
   "metadata": {},
   "outputs": [],
   "source": []
  },
  {
   "cell_type": "code",
   "execution_count": null,
   "id": "a4fd5047",
   "metadata": {},
   "outputs": [],
   "source": []
  },
  {
   "cell_type": "code",
   "execution_count": null,
   "id": "0124ffd9",
   "metadata": {},
   "outputs": [],
   "source": []
  }
 ],
 "metadata": {
  "kernelspec": {
   "display_name": "Python 3 (ipykernel)",
   "language": "python",
   "name": "python3"
  },
  "language_info": {
   "codemirror_mode": {
    "name": "ipython",
    "version": 3
   },
   "file_extension": ".py",
   "mimetype": "text/x-python",
   "name": "python",
   "nbconvert_exporter": "python",
   "pygments_lexer": "ipython3",
   "version": "3.10.9"
  }
 },
 "nbformat": 4,
 "nbformat_minor": 5
}

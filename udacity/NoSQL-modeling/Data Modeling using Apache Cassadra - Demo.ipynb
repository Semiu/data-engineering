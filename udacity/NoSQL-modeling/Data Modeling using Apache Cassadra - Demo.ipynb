{
 "cells": [
  {
   "cell_type": "code",
   "execution_count": null,
   "id": "050eeb5a",
   "metadata": {},
   "outputs": [],
   "source": [
    "!pip install cassandra-driver"
   ]
  },
  {
   "cell_type": "code",
   "execution_count": null,
   "id": "d4d793ff",
   "metadata": {},
   "outputs": [],
   "source": [
    "import cassandra"
   ]
  },
  {
   "cell_type": "code",
   "execution_count": null,
   "id": "e37198ef",
   "metadata": {},
   "outputs": [],
   "source": [
    "from cassandra.cluster import Cluster\n",
    "try:\n",
    "    cluster = Cluster(['127.0.0.1']) # You must have installed a local instance\n",
    "    session = cluster.connect()\n",
    "except Exception as e:\n",
    "    print(e)"
   ]
  },
  {
   "cell_type": "code",
   "execution_count": null,
   "id": "83e12e9c",
   "metadata": {},
   "outputs": [],
   "source": [
    "# Create a Keyspace - Database\n",
    "try:\n",
    "    session.execute(\"\"\"\n",
    "    CREATE KEYSPACE IF NOT EXISTS udacity\n",
    "    WITH REPLICATION =\n",
    "    {'class': 'SimpleStrategy', 'replication_factor': 1}\"\"\"\n",
    "    )\n",
    "except Exception as e:\n",
    "    print(e)"
   ]
  },
  {
   "cell_type": "code",
   "execution_count": null,
   "id": "d1c3b0f6",
   "metadata": {},
   "outputs": [],
   "source": [
    "# Connect to the keyspace\n",
    "try:\n",
    "    session.set_keyspace('udacity')\n",
    "except Exception as e:\n",
    "    print(e)"
   ]
  },
  {
   "cell_type": "raw",
   "id": "37d0f4b9",
   "metadata": {},
   "source": [
    "1. Give me every album in my music library that was released in a given year\n",
    "select * from music_library where year = 1980\n",
    "\n",
    "2. Give me every album from my music library that was created by a given artist - we need an artist table listing their album \n",
    "to have query like:\n",
    "    select * from artist_table where artist_name = \"Ade Bendel\"\n",
    "    \n",
    "This means doing two different tables that partition the data differently in these formats:\n",
    "(i) the music_library table will be by year to becoome the partition key and the artist name as the clustering column to make each primary key unique\n",
    "(ii) the artist_table table will be by artist name to be the partition key and year will be the clustering columnn to make each primary key unique.\n",
    "\n",
    "Table Name: music_library\n",
    "column 1: Year\n",
    "column 2: artist name\n",
    "column 3: album name\n",
    "PRIMARY KEY(year, artist name)\n",
    "\n",
    "Table name: artist_table\n",
    "column 1: artist name\n",
    "column 2: Year \n",
    "column 3: album name\n",
    "PRIMARY KEY(artist name, year)"
   ]
  },
  {
   "cell_type": "raw",
   "id": "52aa436f",
   "metadata": {},
   "source": [
    "Questions:\n",
    "    does the arrangement of the columns matter? - it does NOT matter.\n",
    "    what informs the choice of the clustering column? This is column to sort the data where it is needed to achieve the query objective."
   ]
  },
  {
   "cell_type": "raw",
   "id": "f0b03fe8",
   "metadata": {},
   "source": [
    "The partition key is the first column (or bracketed columns) when the primary key is composite. The second part is the clustering column(s).\n",
    "Example of when bracketed column is PRIMARY KEY((col1, col2), col3, col4). The partition key here is (col1, col2). The WHERE clause would need both for filtering. The col3 and col4 are the clustering columns.\n",
    "The data model, which is per table, since no JOINS in Apache cassandra, should be robust enough to take care of the queries intended to be performed on it. "
   ]
  },
  {
   "cell_type": "code",
   "execution_count": null,
   "id": "3ac9e661",
   "metadata": {},
   "outputs": [],
   "source": [
    "# Creating the tables\n",
    "query = 'CREATE TABLE IF NOT EXISTS music_library'\n",
    "query = query + \"(year int, artist_name text, album_name text, PRIMARY KEY (year, artist_name))\"\n",
    "\n",
    "try:\n",
    "    session.execute(query)\n",
    "except Exception as e:\n",
    "    print(e)\n",
    "\n",
    "\n",
    "query = 'CREATE TABLE IF NOT EXISTS artist_table'\n",
    "query = query + \"(year int, artist_name text, album_name text, PRIMARY KEY (artist_name, year))\"\n",
    "\n",
    "try:\n",
    "    session.execute(query)\n",
    "except Exception as e:\n",
    "    print(e)"
   ]
  },
  {
   "cell_type": "code",
   "execution_count": null,
   "id": "18c21b43",
   "metadata": {},
   "outputs": [],
   "source": [
    "# Insert some data\n",
    "query = \"INSERT INTO music_library (year, artist_name, album_name)\"\n",
    "query = query + \"VALUES (%s, %s, %s)\"\n",
    "\n",
    "query1 = \"INSERT INTO artist_table (year, artist_name, album_name)\"\n",
    "query1 = query1 + \"VALUES (%s, %s, %s)\"\n",
    "\n",
    "\n",
    "try:\n",
    "    session.execute(query, (1970, \"The Beatles\", \"Let it Be\"))\n",
    "except Exception as e:\n",
    "    print(e)\n",
    "\n",
    "try:\n",
    "    session.execute(query, (1965, \"The Beatles\", \"Rubber Soul\"))\n",
    "except Exception as e:\n",
    "    print(e)\n",
    "    \n",
    "try:\n",
    "    session.execute(query, (1965, \"The Who\", \"My Generation\"))\n",
    "except Exception as e:\n",
    "    print(e)\n",
    "    \n",
    "try:\n",
    "    session.execute(query, (1966, \"The Monkees\", \"The Monkees\"))\n",
    "except Exception as e:\n",
    "    print(e)\n",
    "    \n",
    "try:\n",
    "    session.execute(query, (1970, \"The Carpenters\", \"Close To You\"))\n",
    "except Exception as e:\n",
    "    print(e)\n",
    "    \n",
    "try:\n",
    "    session.execute(query1, (1970, \"The Beatles\", \"Let it Be\"))\n",
    "except Exception as e:\n",
    "    print(e)\n",
    "\n",
    "try:\n",
    "    session.execute(query1, (1965, \"The Beatles\", \"Rubber Soul\"))\n",
    "except Exception as e:\n",
    "    print(e)\n",
    "    \n",
    "try:\n",
    "    session.execute(query1, (1965, \"The Who\", \"My Generation\"))\n",
    "except Exception as e:\n",
    "    print(e)"
   ]
  },
  {
   "cell_type": "code",
   "execution_count": null,
   "id": "06c901b6",
   "metadata": {},
   "outputs": [],
   "source": [
    "# Checking our data models\n",
    "query = \"SELECT * FROM music_library WHERE year = 1970\"\n",
    "try:\n",
    "    rows = session.execute(query)\n",
    "except Exception as e:\n",
    "    print(e)\n",
    "    \n",
    "for row in rows:\n",
    "    print(row.year, row.artist_name, row.album_name)\n",
    "    \n",
    "    \n",
    "query = \"SELECT * FROM artist_table WHERE artist_name = The Beatles\"\n",
    "try:\n",
    "    rows = session.execute(query)\n",
    "except Exception as e:\n",
    "    print(e)\n",
    "    \n",
    "for row in rows:\n",
    "    print(row.year, row.artist_name, row.album_name)"
   ]
  },
  {
   "cell_type": "code",
   "execution_count": null,
   "id": "e8ac056a",
   "metadata": {},
   "outputs": [],
   "source": [
    "# Drop the tables\n",
    "query = \"DROP TABLE music_library\"\n",
    "try:\n",
    "    rows = session.execute(query)\n",
    "except Exception as e:\n",
    "    print(e)\n",
    "    \n",
    "query1 = \"DROP TABLE artist_table\"\n",
    "try:\n",
    "    rows = session.execute(query1)\n",
    "except Exception as e:\n",
    "    print(e)"
   ]
  },
  {
   "cell_type": "code",
   "execution_count": null,
   "id": "7da8dc25",
   "metadata": {},
   "outputs": [],
   "source": [
    "# Close connection and cluster\n",
    "session.shutdown()\n",
    "cluster.shutdown()"
   ]
  }
 ],
 "metadata": {
  "kernelspec": {
   "display_name": "Python 3 (ipykernel)",
   "language": "python",
   "name": "python3"
  },
  "language_info": {
   "codemirror_mode": {
    "name": "ipython",
    "version": 3
   },
   "file_extension": ".py",
   "mimetype": "text/x-python",
   "name": "python",
   "nbconvert_exporter": "python",
   "pygments_lexer": "ipython3",
   "version": "3.10.9"
  }
 },
 "nbformat": 4,
 "nbformat_minor": 5
}

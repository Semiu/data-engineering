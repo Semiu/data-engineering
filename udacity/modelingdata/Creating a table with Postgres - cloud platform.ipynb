{
 "cells": [
  {
   "cell_type": "markdown",
   "id": "0dcc079a",
   "metadata": {},
   "source": [
    "#### Lesson 1 Demo 0 code"
   ]
  },
  {
   "cell_type": "markdown",
   "id": "721e3dba",
   "metadata": {},
   "source": [
    "Working through the basics of PostgreSQL autocommits "
   ]
  },
  {
   "cell_type": "code",
   "execution_count": 3,
   "id": "a2f952da",
   "metadata": {},
   "outputs": [],
   "source": [
    "# Python wrapper for postgres\n",
    "import psycopg2"
   ]
  },
  {
   "cell_type": "code",
   "execution_count": null,
   "id": "844229fd",
   "metadata": {},
   "outputs": [],
   "source": [
    "# Connect to the database - local instance of postgres DB here\n",
    "conn = psycopg2.connect(\"host=127.0.01 dbname=studentdb user=student password=student\") # example based on the demo\n",
    "# Get cursor from the connection to execute queries\n",
    "cur = conn.cursor()"
   ]
  },
  {
   "cell_type": "code",
   "execution_count": null,
   "id": "73005aed",
   "metadata": {},
   "outputs": [],
   "source": [
    "cur.execute(\"SELECT * FROM test123\") # Ensure test123 exists as a table in the local isntance db. Else, create"
   ]
  },
  {
   "cell_type": "code",
   "execution_count": null,
   "id": "cfac8188",
   "metadata": {},
   "outputs": [],
   "source": [
    "cur.execute(\"CREATE TABLE test123 (col1 int, col2 int, col3 int);\") # Any error related to transaction block means there is no \n",
    "                                                                    # commit of the transactions. It would suggest reconnecting\n",
    "                                                                    # i.e. re-running the code in cell 2.\n",
    "                                                                    # To avoid that everytime (but reconnect this time to re-establish the connection\n",
    "                                                                    # set session to autocommit"
   ]
  },
  {
   "cell_type": "code",
   "execution_count": null,
   "id": "479650d8",
   "metadata": {},
   "outputs": [],
   "source": [
    "conn.set_session(autocommit=True)"
   ]
  },
  {
   "cell_type": "code",
   "execution_count": null,
   "id": "9b8b7b91",
   "metadata": {},
   "outputs": [],
   "source": [
    "cur.execute(\"SELECT COUNT(*) FROM test123\")\n",
    "print(cur.fetchall())"
   ]
  },
  {
   "cell_type": "code",
   "execution_count": null,
   "id": "e801bf3a",
   "metadata": {},
   "outputs": [],
   "source": [
    "cur.execute(\"DROP TABLE test123\")# to drop the table"
   ]
  },
  {
   "cell_type": "markdown",
   "id": "a4bcce1e",
   "metadata": {},
   "source": [
    "#### Lesson 1 Demo 1 Code"
   ]
  },
  {
   "cell_type": "code",
   "execution_count": null,
   "id": "ad8a3526",
   "metadata": {},
   "outputs": [],
   "source": [
    "try:\n",
    "    conn = psycopg2.connect(\"host=127.0.0.1 dbname=studentdb user=student password=student\")\n",
    "except psycopg2.Error as e:\n",
    "    print(\"Error: could not make connection to the database\")\n",
    "    print(e)"
   ]
  },
  {
   "cell_type": "code",
   "execution_count": null,
   "id": "9787f779",
   "metadata": {},
   "outputs": [],
   "source": [
    "try:\n",
    "    cur = conn.cursor()\n",
    "except psycopg2.Error as e:\n",
    "    print(\"Error: could not get cursor to the database\")\n",
    "    print(e)"
   ]
  },
  {
   "cell_type": "code",
   "execution_count": null,
   "id": "1e22665f",
   "metadata": {},
   "outputs": [],
   "source": [
    "conn.set_session(autocommit=True)"
   ]
  },
  {
   "cell_type": "code",
   "execution_count": null,
   "id": "deea8f96",
   "metadata": {},
   "outputs": [],
   "source": [
    "# Create a database\n",
    "try:\n",
    "    cur.execute(\"CREATE database udacity\")\n",
    "except psycopg2.Error as e:\n",
    "    print(e)"
   ]
  },
  {
   "cell_type": "code",
   "execution_count": null,
   "id": "485c1033",
   "metadata": {},
   "outputs": [],
   "source": [
    "# Close the connection, re-connect and get a cursor\n",
    "try:\n",
    "    conn.close()\n",
    "except psycopg2.Error as e:\n",
    "    print(e)\n",
    "    \n",
    "try:\n",
    "    conn = psycopg2.connect(\"dbname=udacity\")\n",
    "except psycopg2.Error as e:\n",
    "    print(\"Error: Could not make connection to the Potgres database\")\n",
    "    print(e)\n",
    "    \n",
    "try:\n",
    "    cur = conn.cursor()\n",
    "except psycopg2.Error as e:\n",
    "    print(\"Error: Could not get cursor to the database\")\n",
    "    print(e)\n",
    "\n",
    "conn.set_session(autocommit=True)"
   ]
  },
  {
   "cell_type": "code",
   "execution_count": null,
   "id": "4ba30354",
   "metadata": {},
   "outputs": [],
   "source": [
    "# Create a table in the database\n",
    "\n",
    "try:\n",
    "    cur.execute(\"CREATE TABLE IF NOT EXISTS music_library (album_name varchar, artist_name varchar, year int);\")\n",
    "except psycopg2.Error as e:\n",
    "    print(\"Issue creating the table\")\n",
    "    print(e)\n",
    "    "
   ]
  },
  {
   "cell_type": "code",
   "execution_count": null,
   "id": "a9eacf2e",
   "metadata": {},
   "outputs": [],
   "source": [
    "# Check if the table was created\n",
    "\n",
    "try:\n",
    "    cur.execute(\"SELECT COUNT(*) FROM music_library\")\n",
    "except psycopg2.Error as e:\n",
    "    print(\"Issue creating the table\")\n",
    "    print(e)\n",
    "\n",
    "print(cur.fetchall())"
   ]
  },
  {
   "cell_type": "code",
   "execution_count": null,
   "id": "ab949db3",
   "metadata": {},
   "outputs": [],
   "source": [
    "# Insert rows\n",
    "try:\n",
    "    cur.execute(\"INSERT INTO music_library (album_name, artist_name, year) \\\n",
    "    VALUES (%s, %s, %s)\", \\\n",
    "               (\"Let It be\", \"The Beatles\", 1970))\n",
    "except psycopg2.Error as e:\n",
    "    print(\"Issue inserting rows\")\n",
    "    print(e)\n",
    "    \n",
    "try:\n",
    "    cur.execute(\"INSERT INTO music_library (album_name, artist_name, year) \\\n",
    "    VALUES (%s, %s, %s)\", \\\n",
    "               (\"Rubber Soul\", \"The Beatles\", 1965))\n",
    "except psycopg2.Error as e:\n",
    "    print(\"Issue inserting rows\")\n",
    "    print(e)   "
   ]
  },
  {
   "cell_type": "code",
   "execution_count": null,
   "id": "2f78253f",
   "metadata": {},
   "outputs": [],
   "source": [
    "# Check if the insertions were succesful\n",
    "try:\n",
    "    cur.execute(\"SELECT * FROm music_library;\")\n",
    "except psycopg2.Error as e:\n",
    "    print(\"Issue selecting\")\n",
    "    print(e)\n",
    "\n",
    "row = cur.fetchone()\n",
    "while row:\n",
    "    print(row)\n",
    "    row = cur.fetchone()"
   ]
  },
  {
   "cell_type": "code",
   "execution_count": null,
   "id": "dffbff31",
   "metadata": {},
   "outputs": [],
   "source": [
    "# close the cursor and connection\n",
    "\n",
    "cur.close()\n",
    "conn.close()"
   ]
  },
  {
   "cell_type": "code",
   "execution_count": null,
   "id": "7d6c26fa",
   "metadata": {},
   "outputs": [],
   "source": [
    "try: \n",
    "    cur.execute(\"DROP TABLE IF EXISTS music_tbl;\")\n",
    "except psycopg2.Error as e: \n",
    "    print(\"Error: Issue deleting table\")\n",
    "    print (e)"
   ]
  }
 ],
 "metadata": {
  "kernelspec": {
   "display_name": "Python 3 (ipykernel)",
   "language": "python",
   "name": "python3"
  },
  "language_info": {
   "codemirror_mode": {
    "name": "ipython",
    "version": 3
   },
   "file_extension": ".py",
   "mimetype": "text/x-python",
   "name": "python",
   "nbconvert_exporter": "python",
   "pygments_lexer": "ipython3",
   "version": "3.10.9"
  }
 },
 "nbformat": 4,
 "nbformat_minor": 5
}

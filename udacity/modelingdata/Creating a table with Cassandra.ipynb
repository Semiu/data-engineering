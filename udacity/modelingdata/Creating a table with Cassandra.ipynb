{
 "cells": [
  {
   "cell_type": "markdown",
   "id": "76cf4298",
   "metadata": {},
   "source": [
    "Lesson 1 Demo 2"
   ]
  },
  {
   "cell_type": "code",
   "execution_count": null,
   "id": "68a91831",
   "metadata": {},
   "outputs": [],
   "source": [
    "!pip install cassandra-driver\n",
    "# To install the python wrapper after the installation of the local instance of Apache Cassandra"
   ]
  },
  {
   "cell_type": "code",
   "execution_count": null,
   "id": "8999e9ce",
   "metadata": {},
   "outputs": [],
   "source": [
    "import cassandra # Apache cassandra python package"
   ]
  },
  {
   "cell_type": "code",
   "execution_count": null,
   "id": "ef04fb49",
   "metadata": {},
   "outputs": [],
   "source": [
    "# Connection to the database\n",
    "from cassandra.cluster import Cluster\n",
    "try:\n",
    "    cluster = Cluster(['127.0.0.1'])\n",
    "    session = cluster.connnect()\n",
    "except Exception as e:\n",
    "    print(e)"
   ]
  },
  {
   "cell_type": "code",
   "execution_count": null,
   "id": "68e76a99",
   "metadata": {},
   "outputs": [],
   "source": [
    "# Create the keyspace (known as schema - collection of tables)\n",
    "try:\n",
    "    session.execute(\"\"\"\n",
    "    CREATE KEYSPACE IF NOT EXISTS udacity\n",
    "    WITH REPLICATION =\n",
    "    {'class': 'SimpleStrategy', 'replication_factor': 1}\"\"\")\n",
    "    \n",
    "except Exception as e:\n",
    "    print(e)"
   ]
  },
  {
   "cell_type": "code",
   "execution_count": null,
   "id": "190d410a",
   "metadata": {},
   "outputs": [],
   "source": [
    "# Add the schema to the connection\n",
    "try:\n",
    "    session.set_keyspace(\"udacity\")\n",
    "except Exception as e:\n",
    "    print(e)"
   ]
  },
  {
   "cell_type": "markdown",
   "id": "07ead6ad",
   "metadata": {},
   "source": [
    "Some additional info are needed before modeling table in Apache cassandra. For example, if doing select query requires knowing \n",
    "if there will be a WHERE condition. That column would become the partition key. The partition key and chosen clustering colum n will be the primary key."
   ]
  },
  {
   "cell_type": "code",
   "execution_count": null,
   "id": "5dbecb82",
   "metadata": {},
   "outputs": [],
   "source": [
    "query = \"CREATE TABLE IF NOT EXISTS music_library\"\n",
    "query = query + \"(year int, artist_name text, album_name text, PRIMARY KEY (year, artist_name))\"\n",
    "# year as partition column, and artist_name as clustering column\n",
    "try:\n",
    "    session.execute(query)\n",
    "except Exception as e:\n",
    "    print(e)"
   ]
  },
  {
   "cell_type": "code",
   "execution_count": null,
   "id": "6fb67c3e",
   "metadata": {},
   "outputs": [],
   "source": [
    "query = \"select count(*) from music_library\"\n",
    "try:\n",
    "    count = session.execute(query)\n",
    "except Exception as e:\n",
    "    print(e)\n",
    "print(count.one())"
   ]
  },
  {
   "cell_type": "code",
   "execution_count": null,
   "id": "fdb00965",
   "metadata": {},
   "outputs": [],
   "source": [
    "query = \"INSERT INTO music_library (year, artist_name, album_name)\"\n",
    "query = query + \"VALUES (%s, %s, %s)\"\n",
    "\n",
    "try:\n",
    "    session.execute(query, (1970, \"The Beatles\", \"Let it Be\"))\n",
    "except Exception as e:\n",
    "    print(e)\n",
    "    \n",
    "try:\n",
    "    session.execute(query, (1965, \"The Beatles\", \"Rubber Soul\"))\n",
    "except Exception as e:\n",
    "    print(e)"
   ]
  },
  {
   "cell_type": "code",
   "execution_count": null,
   "id": "540eb63b",
   "metadata": {},
   "outputs": [],
   "source": [
    "query = \"select * from music_library\"\n",
    "try:\n",
    "    rows = session.execute(query)\n",
    "except Exception as e:\n",
    "    print(e)\n",
    "\n",
    "for row in rows:\n",
    "    print(row.year, row.album_name, row.artist_name)"
   ]
  },
  {
   "cell_type": "code",
   "execution_count": null,
   "id": "fbf63ee5",
   "metadata": {},
   "outputs": [],
   "source": [
    "query = \"select * from music_library WHERE year = 1970\"\n",
    "try:\n",
    "    rows = session.execute(query)\n",
    "except Exception as e:\n",
    "    print(e)\n",
    "\n",
    "for row in rows:\n",
    "    print(row.year, row.album_name, row.artist_name)"
   ]
  },
  {
   "cell_type": "code",
   "execution_count": null,
   "id": "9e9329bb",
   "metadata": {},
   "outputs": [],
   "source": [
    "query = \"DROP table music_library\"\n",
    "try:\n",
    "    rows = session.execute(query)\n",
    "except Exception as e:\n",
    "    print(e)"
   ]
  },
  {
   "cell_type": "code",
   "execution_count": null,
   "id": "68f338fa",
   "metadata": {},
   "outputs": [],
   "source": [
    "session.shutdown()\n",
    "cluster.shutdown()"
   ]
  }
 ],
 "metadata": {
  "kernelspec": {
   "display_name": "Python 3 (ipykernel)",
   "language": "python",
   "name": "python3"
  },
  "language_info": {
   "codemirror_mode": {
    "name": "ipython",
    "version": 3
   },
   "file_extension": ".py",
   "mimetype": "text/x-python",
   "name": "python",
   "nbconvert_exporter": "python",
   "pygments_lexer": "ipython3",
   "version": "3.10.9"
  }
 },
 "nbformat": 4,
 "nbformat_minor": 5
}

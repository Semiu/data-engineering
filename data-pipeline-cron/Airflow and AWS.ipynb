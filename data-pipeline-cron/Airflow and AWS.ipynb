{
 "cells": [
  {
   "cell_type": "markdown",
   "id": "a8899c1d",
   "metadata": {},
   "source": [
    "Example of S3 hook in Airflow"
   ]
  },
  {
   "cell_type": "code",
   "execution_count": null,
   "id": "8cd9ceae",
   "metadata": {},
   "outputs": [],
   "source": [
    "from airflow.hooks.S3_hook import S3Hook\n",
    ". . .\n",
    "hook = S3Hook(aws_conn_id='aws_credentials')\n",
    "        bucket = Variable.get('s3_bucket')\n",
    "        prefix = Variable.get('s3_prefix')\n",
    "        logging.info(f\"Listing Keys from {bucket}/{prefix}\")\n",
    "        keys = hook.list_keys(bucket, prefix=prefix)\n",
    "        for key in keys:\n",
    "            logging.info(f\"- s3://{bucket}/{key}\")\n",
    "    list_keys()\n",
    "\n",
    "list_keys_dag = list_keys()"
   ]
  },
  {
   "cell_type": "code",
   "execution_count": null,
   "id": "19b9bc7d",
   "metadata": {},
   "outputs": [],
   "source": []
  },
  {
   "cell_type": "code",
   "execution_count": null,
   "id": "a0ca7e84",
   "metadata": {},
   "outputs": [],
   "source": []
  },
  {
   "cell_type": "code",
   "execution_count": null,
   "id": "8f5b48c9",
   "metadata": {},
   "outputs": [],
   "source": []
  }
 ],
 "metadata": {
  "kernelspec": {
   "display_name": "Python 3 (ipykernel)",
   "language": "python",
   "name": "python3"
  },
  "language_info": {
   "codemirror_mode": {
    "name": "ipython",
    "version": 3
   },
   "file_extension": ".py",
   "mimetype": "text/x-python",
   "name": "python",
   "nbconvert_exporter": "python",
   "pygments_lexer": "ipython3",
   "version": "3.10.11"
  }
 },
 "nbformat": 4,
 "nbformat_minor": 5
}
